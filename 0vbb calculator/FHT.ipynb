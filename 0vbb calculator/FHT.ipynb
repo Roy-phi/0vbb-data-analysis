{
 "cells": [
  {
   "cell_type": "code",
   "execution_count": 17,
   "id": "subject-mountain",
   "metadata": {},
   "outputs": [],
   "source": [
    "import numpy as np\n",
    "import scipy as sp\n",
    "import matplotlib.pyplot as plt\n",
    "import math\n",
    "from scipy.stats import poisson"
   ]
  },
  {
   "cell_type": "code",
   "execution_count": 40,
   "id": "fancy-pursuit",
   "metadata": {},
   "outputs": [
    {
     "name": "stdout",
     "output_type": "stream",
     "text": [
      "[[2053.52]\n",
      " [2012.28]\n",
      " [2042.47]\n",
      " [2006.66]\n",
      " [2041.2 ]\n",
      " [1997.24]\n",
      " [2007.64]\n",
      " [2051.1 ]]\n"
     ]
    }
   ],
   "source": [
    "#read event\n",
    "event_filename=r\"E:\\CDEX\\0vbb\\DATA\\ROI_Event.txt\"\n",
    "event_count = len(open(event_filename,'r').readlines())\n",
    "event=np.zeros((event_count,))\n",
    "with open(event_filename,'r',) as eventf:\n",
    "    reader=eventf.readlines()\n",
    "    count=0\n",
    "    for line in reader:\n",
    "        Line=line.split(\" \")\n",
    "        event[count]=float(Line[0])\n",
    "        count+=1\n",
    "print(event[np.argwhere(abs(event-2039)<50)])"
   ]
  },
  {
   "cell_type": "code",
   "execution_count": 2,
   "id": "hawaiian-pontiac",
   "metadata": {},
   "outputs": [],
   "source": [
    "class CLs:\n",
    "    def __init__(self):\n",
    "        self.deltaE=240\n",
    "        self.sigma=4.4/2.355\n",
    "        self.sigma2=3.49\n",
    "        self.Qbb=2039\n",
    "        self.sqr_2pisigma=4.68\n",
    "        self.ksi=0.25      ##kg.yr\n",
    "        self.NA=6.02e23\n",
    "        self.ma=0.0726      ##kg/mol\n",
    "        self.ln2=0.693\n",
    "        #self.BI=0.365\n",
    "        self.T=0.255\n",
    "        self.frac=0.0783\n",
    "        \n",
    "        \n",
    "    def L(self,S,event):\n",
    "        ub=self.ksi*self.deltaE*self.BI\n",
    "        #us=self.ln2*(self.NA/self.ma)*self.ksi*S\n",
    "        us=S        ##expected signal nums\n",
    "        l=ub/self.deltaE+us/self.sqr_2pisigma*np.exp(-(event-self.Qbb)**2/(2*self.sigma2))\n",
    "        return l.prod(axis=0)\n",
    "    \n",
    "    def maxL(self,event):\n",
    "        s=np.logspace(1,-2,100)\n",
    "        l=np.zeros((100,))\n",
    "        for i in range(len(s)):\n",
    "            l[i]=self.L(s[i],event)\n",
    "        return s[np.argmax(l)]\n",
    "            \n",
    "    def cal_ts(self,S,event):\n",
    "        return 0\n",
    "    def Thalf(self,vs):\n",
    "        return self.ln2*self.ksi*self.frac*self.NA/(vs*self.ma)*1e-23\n",
    "        \n",
    "        \n",
    "        \n",
    "        \n",
    "    \n",
    "                                                     "
   ]
  },
  {
   "cell_type": "code",
   "execution_count": 38,
   "id": "natural-context",
   "metadata": {},
   "outputs": [
    {
     "name": "stdout",
     "output_type": "stream",
     "text": [
      "10.0\n"
     ]
    }
   ],
   "source": [
    "\n",
    "solver=CLs()\n",
    "S=solver.maxL(event)\n",
    "print(S)\n"
   ]
  },
  {
   "cell_type": "code",
   "execution_count": 39,
   "id": "accessible-anthony",
   "metadata": {},
   "outputs": [
    {
     "name": "stdout",
     "output_type": "stream",
     "text": [
      "28\n"
     ]
    }
   ],
   "source": [
    "print(len(event))"
   ]
  },
  {
   "cell_type": "code",
   "execution_count": null,
   "id": "spare-pleasure",
   "metadata": {},
   "outputs": [],
   "source": []
  },
  {
   "cell_type": "code",
   "execution_count": null,
   "id": "digital-sydney",
   "metadata": {},
   "outputs": [],
   "source": [
    "class CLs:\n",
    "    def __init__(self):\n",
    "        self.deltaE=240\n",
    "        self.sigma=2/2.355\n",
    "        self.sigma2=0.7212\n",
    "        self.Qbb=2039\n",
    "        self.sqr_2pisigma=5.44\n",
    "        self.ksi=0.25      ##kg.yr\n",
    "        self.NA=6.02e23\n",
    "        self.ma=0.076      ##kg/mol\n",
    "        self.ln2=0.693\n",
    "        \n",
    "    def L(self,BI,S,event):\n",
    "        ub=self.ksi*BI*self.deltaE\n",
    "        us=self.ln2*(self.NA/self.ma)*self.ksi*S\n",
    "        \n",
    "        l=ub/self.deltaE+us/self.sqr_2pisigma*np.exp(-(event-self.Qbb)**2/(2*self.sigma2))\n",
    "        return l.prod(axis=0)\n",
    "    \n",
    "                                                     "
   ]
  }
 ],
 "metadata": {
  "kernelspec": {
   "display_name": "Python 3",
   "language": "python",
   "name": "python3"
  },
  "language_info": {
   "codemirror_mode": {
    "name": "ipython",
    "version": 3
   },
   "file_extension": ".py",
   "mimetype": "text/x-python",
   "name": "python",
   "nbconvert_exporter": "python",
   "pygments_lexer": "ipython3",
   "version": "3.7.4"
  }
 },
 "nbformat": 4,
 "nbformat_minor": 5
}
