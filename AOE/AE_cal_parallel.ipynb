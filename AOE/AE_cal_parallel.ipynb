{
 "cells": [
  {
   "cell_type": "code",
   "execution_count": 2,
   "id": "assured-network",
   "metadata": {},
   "outputs": [
    {
     "name": "stdout",
     "output_type": "stream",
     "text": [
      "time cost: \n",
      "325.3728847503662  s\n"
     ]
    }
   ],
   "source": [
    "#env='server'\n",
    "env='local'\n",
    "if(env=='server'):\n",
    "    packpath=r'/home/zhangbt/pycode/mypackage'\n",
    "    filename=\"/lustre/BEGe_BNU/20200331/20200331_t3_Th_BEGe_2026_6us_0.5_5_2111_0.5_10_Difout10_FADC_RAW_Data_%d.bin\"\n",
    "    savename=\"./AE_par/\"\n",
    "    mfilter_path='./AE_par/mfilter.npy'\n",
    "    it_num=32\n",
    "    file_num=188\n",
    "elif(env=='local'):\n",
    "    packpath=r'E:\\jupyter-notebook\\packages'\n",
    "    filename=\"G:/CDEX/DATA/20200331_t3_Th_BEGe_2026_6us_0.5_5_2111_0.5_10_Difout10_FADC_RAW_Data_%d.bin\"#modify\n",
    "    savename=\"G:/CDEX/wave_par/\"\n",
    "    mfilter_path=r\"E:/CDEX/0vbb/Code/AE_par/mfilter.npy\"\n",
    "    it_num=4\n",
    "    file_num=4\n",
    "\n",
    "import sys\n",
    "sys.path.append(packpath)# modify\n",
    "import time\n",
    "import multiprocessing\n",
    "import numpy as np\n",
    "import waveform\n",
    "\n",
    "time_start=time.time()\n",
    "\n",
    "\n",
    "def pack_result(result_name):\n",
    "    A=result[0][0]\n",
    "    for i in range(1,len(result)):\n",
    "        A=np.append(A,result[i][0],axis=0)\n",
    "    np.save(result_name+\"A_425_t7\",A)\n",
    "    \n",
    "    E=result[0][1]\n",
    "    for i in range(1,len(result)):\n",
    "        E=np.append(E,result[i][1],axis=0)\n",
    "    np.save(result_name+\"E_425_t7\",E)\n",
    "\n",
    "if __name__==\"__main__\":\n",
    "    \n",
    "    pool = multiprocessing.Pool()\n",
    "    it=waveform.get_it(filename,range(file_num),it_num,mfilter=mfilter_path)\n",
    "    result = pool.starmap_async(waveform.get_par, it).get()\n",
    "    pool.close()\n",
    "    pool.join()\n",
    "    pack_result(savename)\n",
    "print(\"time cost: \")\n",
    "print(time.time()-time_start,\" s\")   "
   ]
  },
  {
   "cell_type": "code",
   "execution_count": null,
   "id": "peripheral-spain",
   "metadata": {},
   "outputs": [],
   "source": []
  }
 ],
 "metadata": {
  "kernelspec": {
   "display_name": "Python 3",
   "language": "python",
   "name": "python3"
  },
  "language_info": {
   "codemirror_mode": {
    "name": "ipython",
    "version": 3
   },
   "file_extension": ".py",
   "mimetype": "text/x-python",
   "name": "python",
   "nbconvert_exporter": "python",
   "pygments_lexer": "ipython3",
   "version": "3.7.4"
  }
 },
 "nbformat": 4,
 "nbformat_minor": 5
}
