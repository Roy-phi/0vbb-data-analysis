{
 "cells": [
  {
   "cell_type": "code",
   "execution_count": 1,
   "id": "victorian-advocate",
   "metadata": {},
   "outputs": [
    {
     "name": "stdout",
     "output_type": "stream",
     "text": [
      "(3700000, 4)\n",
      "(3700000, 2)\n"
     ]
    }
   ],
   "source": [
    "#%%writefile Get_FastPulse.py\n",
    "#import ROOT\n",
    "import copy\n",
    "import matplotlib as mpl\n",
    "from matplotlib import cm\n",
    "import matplotlib.pyplot as plt\n",
    "import seaborn as sns\n",
    "from scipy.optimize import curve_fit\n",
    "import scipy.stats as stats \n",
    "import numpy as np\n",
    "from scipy.fftpack import fft,ifft\n",
    "from scipy.optimize import curve_fit\n",
    "#label text\n",
    "#############\n",
    "\n",
    "Eamp=np.load(r\"E:\\CDEX\\C1B\\data\\AOE\\E_625.npy\")\n",
    "# par=np.load(r\"E:\\CDEX\\0vbb\\Code\\AE_par\\Ecali_par.npy\")\n",
    "A=np.load(r\"E:\\CDEX\\C1B\\data\\AOE\\A_625.npy\")\n",
    "\n",
    "# A=np.load(r'G:/CDEX/wave_par/A_425_t7.npy')\n",
    "# Eamp=np.load(r'G:/CDEX/wave_par/E_425_t7.npy')\n",
    "Energy=np.zeros((Eamp.shape[0],))\n",
    "AOE=np.zeros((A.shape[0],A.shape[1]))\n",
    "print(Eamp.shape)\n",
    "i=3\n",
    "#par=np.load(r\"E:\\CDEX\\0vbb\\Code\\AE_par\\Ecali_par%d.npy\"%i)\n",
    "\n",
    "par=np.array([-2.22,0.19265])\n",
    "Energy[:]=par[0]+Eamp[:,i]*par[1]\n",
    "for i in range(A.shape[1]):\n",
    "    AOE[:,i]=A[:,i]/Energy\n",
    "print(A.shape)"
   ]
  },
  {
   "cell_type": "code",
   "execution_count": null,
   "id": "stable-addition",
   "metadata": {},
   "outputs": [],
   "source": []
  }
 ],
 "metadata": {
  "kernelspec": {
   "display_name": "Python 3",
   "language": "python",
   "name": "python3"
  },
  "language_info": {
   "codemirror_mode": {
    "name": "ipython",
    "version": 3
   },
   "file_extension": ".py",
   "mimetype": "text/x-python",
   "name": "python",
   "nbconvert_exporter": "python",
   "pygments_lexer": "ipython3",
   "version": "3.7.4"
  }
 },
 "nbformat": 4,
 "nbformat_minor": 5
}
