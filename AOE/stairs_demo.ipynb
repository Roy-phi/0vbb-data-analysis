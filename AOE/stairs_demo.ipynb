{
 "cells": [
  {
   "cell_type": "code",
   "execution_count": null,
   "metadata": {
    "collapsed": false,
    "jupyter": {
     "outputs_hidden": false
    }
   },
   "outputs": [],
   "source": [
    "%matplotlib inline"
   ]
  },
  {
   "cell_type": "markdown",
   "metadata": {},
   "source": [
    "\n",
    "# Stairs Demo\n",
    "\n",
    "This example demonstrates the use of `~.matplotlib.pyplot.stairs` for stepwise\n",
    "constant functions. A common use case is histogram and histogram-like data\n",
    "visualization.\n"
   ]
  },
  {
   "cell_type": "code",
   "execution_count": null,
   "metadata": {
    "collapsed": false,
    "jupyter": {
     "outputs_hidden": false
    }
   },
   "outputs": [],
   "source": [
    "import numpy as np\n",
    "import matplotlib.pyplot as plt\n",
    "from matplotlib.patches import StepPatch\n",
    "\n",
    "np.random.seed(0)\n",
    "h, edges = np.histogram(np.random.normal(5, 3, 5000),\n",
    "                        bins=np.linspace(0, 10, 20))\n",
    "\n",
    "fig, axs = plt.subplots(3, 1, figsize=(7, 15))\n",
    "axs[0].stairs(h, edges, label='Simple histogram')\n",
    "axs[0].stairs(h, edges + 5, baseline=50, label='Modified baseline')\n",
    "axs[0].stairs(h, edges + 10, baseline=None, label='No edges')\n",
    "axs[0].set_title(\"Step Histograms\")\n",
    "\n",
    "axs[1].stairs(np.arange(1, 6, 1), fill=True,\n",
    "              label='Filled histogram\\nw/ automatic edges')\n",
    "axs[1].stairs(np.arange(1, 6, 1)*0.3, np.arange(2, 8, 1),\n",
    "              orientation='horizontal', hatch='//',\n",
    "              label='Hatched histogram\\nw/ horizontal orientation')\n",
    "axs[1].set_title(\"Filled histogram\")\n",
    "\n",
    "patch = StepPatch(values=[1, 2, 3, 2, 1],\n",
    "                  edges=range(1, 7),\n",
    "                  label=('Patch derived underlying object\\n'\n",
    "                         'with default edge/facecolor behaviour'))\n",
    "axs[2].add_patch(patch)\n",
    "axs[2].set_xlim(0, 7)\n",
    "axs[2].set_ylim(-1, 5)\n",
    "axs[2].set_title(\"StepPatch artist\")\n",
    "\n",
    "for ax in axs:\n",
    "    ax.legend()\n",
    "plt.show()"
   ]
  },
  {
   "cell_type": "markdown",
   "metadata": {},
   "source": [
    "*baseline* can take an array to allow for stacked histogram plots\n",
    "\n"
   ]
  },
  {
   "cell_type": "code",
   "execution_count": null,
   "metadata": {
    "collapsed": false,
    "jupyter": {
     "outputs_hidden": false
    }
   },
   "outputs": [],
   "source": [
    "A = [[0, 0, 0],\n",
    "     [1, 2, 3],\n",
    "     [2, 4, 6],\n",
    "     [3, 6, 9]]\n",
    "\n",
    "for i in range(len(A) - 1):\n",
    "    plt.stairs(A[i+1], baseline=A[i], fill=True)"
   ]
  },
  {
   "cell_type": "markdown",
   "metadata": {},
   "source": [
    "## Comparison of `.pyplot.step` and `.pyplot.stairs`\n",
    "\n",
    "`.pyplot.step` defines the positions of the steps as single values. The steps\n",
    "extend left/right/both ways from these reference values depending on the\n",
    "parameter *where*. The number of *x* and *y* values is the same.\n",
    "\n",
    "In contrast, `.pyplot.stairs` defines the positions of the steps via their\n",
    "bounds *edges*, which is one element longer than the step values.\n",
    "\n"
   ]
  },
  {
   "cell_type": "code",
   "execution_count": null,
   "metadata": {
    "collapsed": false,
    "jupyter": {
     "outputs_hidden": false
    }
   },
   "outputs": [],
   "source": [
    "bins = np.arange(14)\n",
    "centers = bins[:-1] + np.diff(bins) / 2\n",
    "y = np.sin(centers / 2)\n",
    "\n",
    "plt.step(bins[:-1], y, where='post', label='step(where=\"post\")')\n",
    "plt.plot(bins[:-1], y, 'o--', color='grey', alpha=0.3)\n",
    "\n",
    "plt.stairs(y - 1, bins, baseline=None, label='stairs()')\n",
    "plt.plot(centers, y - 1, 'o--', color='grey', alpha=0.3)\n",
    "plt.plot(np.repeat(bins, 2), np.hstack([y[0], np.repeat(y, 2), y[-1]]) - 1,\n",
    "         'o', color='red', alpha=0.2)\n",
    "\n",
    "plt.legend()\n",
    "plt.title('step() vs. stairs()')\n",
    "plt.show()"
   ]
  },
  {
   "cell_type": "markdown",
   "metadata": {},
   "source": [
    ".. admonition:: References\n",
    "\n",
    "   The use of the following functions, methods, classes and modules is shown\n",
    "   in this example:\n",
    "\n",
    "   - `matplotlib.axes.Axes.stairs` / `matplotlib.pyplot.stairs`\n",
    "   - `matplotlib.patches.StepPatch`\n",
    "\n"
   ]
  }
 ],
 "metadata": {
  "kernelspec": {
   "display_name": "Python 3",
   "language": "python",
   "name": "python3"
  },
  "language_info": {
   "codemirror_mode": {
    "name": "ipython",
    "version": 3
   },
   "file_extension": ".py",
   "mimetype": "text/x-python",
   "name": "python",
   "nbconvert_exporter": "python",
   "pygments_lexer": "ipython3",
   "version": "3.7.4"
  }
 },
 "nbformat": 4,
 "nbformat_minor": 4
}
