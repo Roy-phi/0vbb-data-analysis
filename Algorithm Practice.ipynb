{
 "cells": [
  {
   "cell_type": "code",
   "execution_count": 6,
   "metadata": {},
   "outputs": [],
   "source": [
    "import numpy as np"
   ]
  },
  {
   "cell_type": "code",
   "execution_count": 55,
   "metadata": {},
   "outputs": [
    {
     "name": "stdout",
     "output_type": "stream",
     "text": [
      "[-0.83585609 -0.32393024 -0.06872942 -0.64335858  0.9826657   0.24333523\n",
      "  0.38978109 -2.02850056  0.67488478  0.80891215]\n"
     ]
    }
   ],
   "source": [
    "A=np.random.randn(10,)\n",
    "print(A)\n",
    "###sort algorithm\n",
    "\n",
    "###1. heap sort\n",
    "# MAX Heapify: for node which right and left child tree are both max heap(parent > children), \n",
    "#              modify parent and right and left child,to make node be a max heap root\n",
    "#BuildMaxHeap: build a maxheap form down to up\n",
    "#MaxHeapSort : build a maxheap, choose the root(which is the max element),put it to the end of the array,and continue...\n",
    "def MaxHeapify(A,i):\n",
    "    l=2*i+1       #left child\n",
    "    r=2*i+2       #right child\n",
    "    imax=i\n",
    "    if(l<A.size and A[l]>A[imax]):\n",
    "        imax=l\n",
    "    if(r<A.size and A[r]>A[imax]):\n",
    "        imax=r\n",
    "    if(imax!=i):\n",
    "        t=A[imax]\n",
    "        A[imax]=A[i]\n",
    "        A[i]=t\n",
    "        MaxHeapify(A,imax)\n",
    "    return A\n",
    "\n",
    "def BuildMaxHeap(A):\n",
    "    for i in range(A.size-1,-1,-1):\n",
    "        MaxHeapify(A,i)\n",
    "\n",
    "def MaxHeapSort(A):\n",
    "    BuildMaxHeap(A)\n",
    "    for i in range(A.size-1,0,-1):\n",
    "        A[0],A[i]=A[i],A[0]\n",
    "        BuildMaxHeap(A[0:i])\n",
    "####################\n",
    "\n",
    "###2 quick sort\n",
    "# Partition: choose an element(e.g. the end element) as pivot to segment array,smaller element in front.\n",
    "#            in this function, index \"i\" means the max index of (identified) smaller element untill now  \n",
    "\n",
    "\n",
    "def Partition(A,p,q):\n",
    "    i=p-1\n",
    "    for j in range(p,q):\n",
    "        if(A[j]<=A[q]):              # in this case(choose A[q] as pivot),\"<=\"makes it stable, and \"<\" makes it unstable\n",
    "            i=i+1\n",
    "            A[i],A[j]=A[j],A[i]\n",
    "    A[i+1],A[q]=A[q],A[i+1]\n",
    "    return i+1\n",
    "\n",
    "def PartitionV2(A,p,q,x):\n",
    "    i=p-1\n",
    "    j=p\n",
    "    while(j<q):\n",
    "        if(A[j]<x):\n",
    "            i=i+1\n",
    "            A[i],A[j]=A[j],A[i]\n",
    "        elif(A[j]==x):\n",
    "            if(A[q]==A[j]):\n",
    "                i=i+1\n",
    "            else:\n",
    "                A[q],A[j]=A[j],A[q]\n",
    "                j=j-1\n",
    "        j+=1\n",
    "    A[i+1],A[q]=A[q],A[i+1]\n",
    "    return i+1\n",
    "\n",
    "def QuickSort(A,p,q):\n",
    "    print(p,q)\n",
    "    if(p>=q):\n",
    "        return\n",
    "    r=Partition(A,p,q)\n",
    "    QuickSort(A,p,r-1)\n",
    "    QuickSort(A,r+1,q)\n",
    "    \n",
    "################\n",
    "\n",
    "### 3. counting sort\n",
    "## A is input Array, B is temp store array, k is element range (1...k,int)\n",
    "def CountSort(A,k):\n",
    "    n=A.size\n",
    "    B=np.zeros((n,),dtype=int)\n",
    "    C=np.zeros((k,),dtype=int)\n",
    "    for i in range(n):\n",
    "        C[A[i]]+=1\n",
    "    j=0\n",
    "    for i in range(1,k):\n",
    "        while(C[i]>0):\n",
    "            B[j]=i\n",
    "            j+=1\n",
    "            C[i]-=1\n",
    "    return B\n",
    "\n",
    "### 4. insert sort\n",
    "def InsertSort(A):\n",
    "    n=A.size\n",
    "    for i in range(n):\n",
    "        for j in range(i):\n",
    "            if(A[j]>A[i]):\n",
    "                t=A[i]\n",
    "                A[j+1:i+1]=A[j:i]\n",
    "                A[j]=t"
   ]
  },
  {
   "cell_type": "code",
   "execution_count": 56,
   "metadata": {},
   "outputs": [
    {
     "name": "stdout",
     "output_type": "stream",
     "text": [
      "[ 4  1 10  7] 1\n"
     ]
    }
   ],
   "source": [
    "A=np.arange(10,0,-3)\n",
    "r=PartitionV2(A,0,3,5)\n",
    "print(A,r)"
   ]
  },
  {
   "cell_type": "code",
   "execution_count": 77,
   "metadata": {},
   "outputs": [],
   "source": [
    "### Select Algorithm\n",
    "# Select: select the ith element in O(n)\n",
    "# \n",
    "def ChildMedium(A,L):\n",
    "    n=A.size\n",
    "    N=int(np.floor(n/L))\n",
    "    M=int(n%L)\n",
    "    child_size=int(np.ceil(n/L))\n",
    "    child_medium=np.zeros((child_size,))\n",
    "    for i in range(N):\n",
    "        InsertSort(A[i*L:(i+1)*L])\n",
    "        child_medium[i]=A[i*L+int(np.floor(L/2))]\n",
    "    if(M>0):\n",
    "        InsertSort(A[N*L:n])\n",
    "        child_medium[child_size-1]=A[N*L+int(np.floor(M/2))]\n",
    "    return child_medium\n",
    "    \n",
    "    \n",
    "def Select(A,i):\n",
    "    n=A.size\n",
    "    if(n<=1 or i>n-1 ):\n",
    "        return A[0]\n",
    "    \n",
    "    #select the medium of child array medium\n",
    "    L=5\n",
    "    child_medium=ChildMedium(A,L)\n",
    "    Medium=Select(child_medium,int(np.floor(child_medium.size/2)))\n",
    "    \n",
    "    #use the medium of child array medium to segment A, and get the pivot index\n",
    "    Segment=PartitionV2(A,0,n-1,Medium)\n",
    "    \n",
    "    #recurse the smaller Array\n",
    "    if(Segment==i):\n",
    "        return A[Segment]\n",
    "    if(Segment<i):\n",
    "        return Select(A[Segment+1:],i-Segment-1)\n",
    "    else:\n",
    "        return Select(A[0:Segment],i)\n",
    "\n",
    "    \n"
   ]
  },
  {
   "cell_type": "code",
   "execution_count": 19,
   "metadata": {},
   "outputs": [],
   "source": [
    "### Data Structure\n",
    "###1. stack\n",
    "class Stack():\n",
    "    def __init__(self,size):\n",
    "        self.data=np.zeros((size,))\n",
    "        self.i=-1\n",
    "    def push(self,n):\n",
    "        if(self.i>=self.data.size):\n",
    "            print(\"boom\")\n",
    "            return\n",
    "        self.i+=1\n",
    "        self.data[self.i]=n\n",
    "        \n",
    "    def pop(self):\n",
    "        if(self.i<0):\n",
    "            print(\"the stack is empty\")\n",
    "            return \n",
    "        self.i-=1\n",
    "        return self.data[self.i+1]\n",
    "###2. list\n",
    "class queue():\n",
    "    def __init__(self,size):\n",
    "        self.size=size\n",
    "        self.L=0\n",
    "        self.data=np.zeros((size,))\n",
    "        self.front=0\n",
    "        self.end=0\n",
    "    def enqueue(self,x):\n",
    "        self.L+=1\n",
    "        if(self.L>self.size-1):\n",
    "            print(\"boom!!,error\")\n",
    "            self.L-=1\n",
    "            return\n",
    "        self.front=(self.front-1)%self.size\n",
    "        self.data[self.front]=x\n",
    "    def dequeue(self):\n",
    "        self.L-=1\n",
    "        if(self.L<0):\n",
    "            print(\"boom!!,error\")\n",
    "            self.L+=1\n",
    "            return\n",
    "        self.end=(self.end-1)%self.size\n",
    "        return self.data[self.end] "
   ]
  },
  {
   "cell_type": "code",
   "execution_count": 20,
   "metadata": {},
   "outputs": [
    {
     "name": "stdout",
     "output_type": "stream",
     "text": [
      "boom!!,error\n",
      "0.0\n",
      "1.0\n",
      "2.0\n",
      "3.0\n",
      "boom!!,error\n",
      "None\n"
     ]
    }
   ],
   "source": [
    "a=queue(5)\n",
    "for i in range(5):\n",
    "    a.enqueue(i)\n",
    "for i in range(5):\n",
    "    print(a.dequeue())\n"
   ]
  },
  {
   "cell_type": "code",
   "execution_count": 11,
   "metadata": {},
   "outputs": [
    {
     "name": "stdout",
     "output_type": "stream",
     "text": [
      "2\n"
     ]
    }
   ],
   "source": [
    "print(-1%3)"
   ]
  },
  {
   "cell_type": "code",
   "execution_count": null,
   "metadata": {},
   "outputs": [],
   "source": []
  }
 ],
 "metadata": {
  "kernelspec": {
   "display_name": "Python 3",
   "language": "python",
   "name": "python3"
  },
  "language_info": {
   "codemirror_mode": {
    "name": "ipython",
    "version": 3
   },
   "file_extension": ".py",
   "mimetype": "text/x-python",
   "name": "python",
   "nbconvert_exporter": "python",
   "pygments_lexer": "ipython3",
   "version": "3.7.4"
  }
 },
 "nbformat": 4,
 "nbformat_minor": 2
}
