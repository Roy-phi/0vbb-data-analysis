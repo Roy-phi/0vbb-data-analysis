{
 "cells": [
  {
   "cell_type": "code",
   "execution_count": 8,
   "id": "comparable-nurse",
   "metadata": {},
   "outputs": [],
   "source": [
    "####C1B 能量分辨率工作区：\n",
    "\n",
    "#import ROOT\n",
    "import matplotlib.pyplot as plt\n",
    "from scipy.optimize import curve_fit\n",
    "import scipy.stats as stats \n",
    "import numpy as np\n",
    "#pic_path=r'E:\\CDEX\\C1B\\picture\\波形处理\\\\'\n",
    "#load text"
   ]
  },
  {
   "cell_type": "code",
   "execution_count": 6,
   "id": "ideal-synthesis",
   "metadata": {},
   "outputs": [],
   "source": [
    "E=np.load(r\"E:\\CDEX\\C1B\\data\\AOE\\E_625.npy\")*0.19265-2.22\n",
    "Full_peak=np.array([238.63,510.77,583.19,1460.82,2614.51])"
   ]
  },
  {
   "cell_type": "code",
   "execution_count": 7,
   "id": "mechanical-livestock",
   "metadata": {},
   "outputs": [],
   "source": [
    "def gaus(x,n,miu,sigma):\n",
    "    t=-(x-miu)**2/(2*sigma**2)\n",
    "    return n*np.exp(t)\n",
    "def poly(x,a,b,c):\n",
    "    return a+b*x+c*x**2\n",
    "def plt_adjust():\n",
    "    plt.subplots_adjust(left=0.10, bottom=0.10, right=0.97, top=0.97,\n",
    "                wspace=0.15, hspace=0.25)"
   ]
  },
  {
   "cell_type": "code",
   "execution_count": 5,
   "id": "critical-shoot",
   "metadata": {},
   "outputs": [],
   "source": [
    "fig, ax = plt.subplots(3,3,figsize=(12, 9),dpi=300)\n",
    "\n",
    "for "
   ]
  },
  {
   "cell_type": "code",
   "execution_count": null,
   "id": "continent-twins",
   "metadata": {},
   "outputs": [],
   "source": []
  }
 ],
 "metadata": {
  "kernelspec": {
   "display_name": "Python 3",
   "language": "python",
   "name": "python3"
  },
  "language_info": {
   "codemirror_mode": {
    "name": "ipython",
    "version": 3
   },
   "file_extension": ".py",
   "mimetype": "text/x-python",
   "name": "python",
   "nbconvert_exporter": "python",
   "pygments_lexer": "ipython3",
   "version": "3.7.4"
  }
 },
 "nbformat": 4,
 "nbformat_minor": 5
}
