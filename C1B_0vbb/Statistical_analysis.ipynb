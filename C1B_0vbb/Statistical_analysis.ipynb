{
 "cells": [
  {
   "cell_type": "code",
   "execution_count": 2,
   "id": "correct-passage",
   "metadata": {},
   "outputs": [],
   "source": [
    "#给定能谱，输出信号量统计结果，使用MCMC方法，要求可以使用多进程\n",
    "import numpy as np\n",
    "import matplotlib.pyplot as plt\n",
    "import math"
   ]
  },
  {
   "cell_type": "code",
   "execution_count": null,
   "id": "rocky-hopkins",
   "metadata": {},
   "outputs": [],
   "source": [
    "#获取能谱，观察（分不同时期能谱）\n",
    "#20210206-20210508\n",
    "\n",
    "#20210809-20220101\n",
    "\n"
   ]
  },
  {
   "cell_type": "markdown",
   "id": "fallen-ceremony",
   "metadata": {},
   "source": [
    "输入一个能谱对象序列，能谱对象包含ROI事例能量，该能谱的效率，能量分辨率，能量偏移\n",
    "\n",
    "模拟工具：\n",
    "1. 给定信号水平和计数，还有特定探测器参数，产生随机能谱，该随机数必须可控\n",
    "\n",
    "计算工具：\n",
    "1. 计算一个能谱的Li\n",
    "\n",
    "2. 计算P值\n"
   ]
  },
  {
   "cell_type": "code",
   "execution_count": null,
   "id": "nervous-adapter",
   "metadata": {},
   "outputs": [],
   "source": []
  },
  {
   "cell_type": "code",
   "execution_count": null,
   "id": "immediate-german",
   "metadata": {},
   "outputs": [],
   "source": []
  }
 ],
 "metadata": {
  "kernelspec": {
   "display_name": "Python 3",
   "language": "python",
   "name": "python3"
  },
  "language_info": {
   "codemirror_mode": {
    "name": "ipython",
    "version": 3
   },
   "file_extension": ".py",
   "mimetype": "text/x-python",
   "name": "python",
   "nbconvert_exporter": "python",
   "pygments_lexer": "ipython3",
   "version": "3.7.4"
  }
 },
 "nbformat": 4,
 "nbformat_minor": 5
}
