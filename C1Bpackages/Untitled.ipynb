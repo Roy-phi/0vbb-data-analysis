{
 "cells": [
  {
   "cell_type": "code",
   "execution_count": 2,
   "id": "defined-probe",
   "metadata": {},
   "outputs": [
    {
     "name": "stdout",
     "output_type": "stream",
     "text": [
      "[0. 1. 2. 3. 3. 3. 3. 3. 3. 3. 3.]\n"
     ]
    }
   ],
   "source": [
    "import math\n",
    "import pandas as pd\n",
    "import numpy as np\n",
    "import matplotlib.pyplot as plt\n",
    "import pywt\n",
    "from scipy import signal\n",
    "from scipy.interpolate import interp1d\n",
    "import time as ti\n",
    "from scipy.fftpack import fft,ifft\n",
    "from scipy.fft import fftshift\n",
    "\n",
    "b=np.linspace(0,10,11)\n",
    "Npoint=3\n",
    "py=np.array([1])\n",
    "px=np.zeros((Npoint+1,))\n",
    "px[0]=1\n",
    "px[Npoint]=-1\n",
    "a=signal.lfilter(px,py,b)\n",
    "print(a)"
   ]
  },
  {
   "cell_type": "code",
   "execution_count": 3,
   "id": "strange-narrative",
   "metadata": {},
   "outputs": [
    {
     "name": "stdout",
     "output_type": "stream",
     "text": [
      "[0.         0.33333333 1.         2.         3.         4.\n",
      " 5.         6.         7.         8.         9.        ]\n"
     ]
    }
   ],
   "source": [
    "b=np.linspace(0,10,11)\n",
    "py=np.array([1])\n",
    "px=np.zeros((Npoint,))+1./Npoint\n",
    "a=signal.lfilter(px,py,b)\n",
    "print(a)"
   ]
  },
  {
   "cell_type": "code",
   "execution_count": null,
   "id": "august-invite",
   "metadata": {},
   "outputs": [],
   "source": []
  }
 ],
 "metadata": {
  "kernelspec": {
   "display_name": "Python 3",
   "language": "python",
   "name": "python3"
  },
  "language_info": {
   "codemirror_mode": {
    "name": "ipython",
    "version": 3
   },
   "file_extension": ".py",
   "mimetype": "text/x-python",
   "name": "python",
   "nbconvert_exporter": "python",
   "pygments_lexer": "ipython3",
   "version": "3.7.4"
  }
 },
 "nbformat": 4,
 "nbformat_minor": 5
}
