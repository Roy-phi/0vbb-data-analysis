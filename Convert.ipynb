{
 "cells": [
  {
   "cell_type": "code",
   "execution_count": 1,
   "metadata": {},
   "outputs": [],
   "source": [
    "import csv"
   ]
  },
  {
   "cell_type": "code",
   "execution_count": 3,
   "metadata": {},
   "outputs": [],
   "source": [
    "##### Convert evbg.fld to csv\n",
    "cm=0.01\n",
    "mm=0.001\n",
    "ev_sparse_path='E:/CDEX/Alpha/Data/ppc_ev_sparse.fld'\n",
    "ev_dense_path='E:/CDEX/Alpha/Data/ppc_ev_dense2D.fld'\n",
    "newev_path=r'E:\\CDEX\\ovbb\\WaveSimulation\\SAGE_PSS-master\\SAGE_PSS-master\\Fields\\ppc_ev.csv'\n",
    "evbg_count = len(open(ev_sparse_path,'r').readlines())\n",
    "evbg_AlphaR_count = len(open(ev_dense_path,'r').readlines())\n",
    "with open(newev_path,'w',newline='') as newfile: \n",
    "    writer=csv.writer(newfile)\n",
    "    #print(evbg_count,',',evbg_AlphaR_count,',')\n",
    "    writer.writerow([evbg_count,evbg_AlphaR_count])\n",
    "    V=0\n",
    "    with open(ev_sparse_path,'r',) as evfile:\n",
    "        reader=evfile.readlines()[2:]\n",
    "        for line in reader:\n",
    "            Line=line.split(\" \")\n",
    "            for i in range(7):\n",
    "                if(i==3):\n",
    "                    continue\n",
    "                Line[i]=float(Line[i])\n",
    "            writer.writerow([Line[0]/mm,Line[2]/mm,V,(Line[4]**2+Line[6]**2)**0.5*cm,Line[4]*cm,Line[6]*cm]) \n",
    "    with open(ev_dense_path,'r',) as evAlphafile:\n",
    "        reader=evAlphafile.readlines()[2:]\n",
    "        for line in reader:\n",
    "            Line=line.split(\" \")\n",
    "            for i in range(7):\n",
    "                if(i==3):\n",
    "                    continue\n",
    "                Line[i]=float(Line[i])\n",
    "            writer.writerow([Line[0]/mm,Line[2]/mm,V,(Line[4]**2+Line[6]**2)**0.5*cm,Line[4]*cm,Line[6]*cm])\n",
    "            \n",
    "        \n",
    "        "
   ]
  },
  {
   "cell_type": "code",
   "execution_count": 14,
   "metadata": {},
   "outputs": [
    {
     "ename": "ValueError",
     "evalue": "binary mode doesn't take a newline argument",
     "output_type": "error",
     "traceback": [
      "\u001b[1;31m---------------------------------------------------------------------------\u001b[0m",
      "\u001b[1;31mValueError\u001b[0m                                Traceback (most recent call last)",
      "\u001b[1;32m<ipython-input-14-c51f54217c3b>\u001b[0m in \u001b[0;36m<module>\u001b[1;34m\u001b[0m\n\u001b[1;32m----> 1\u001b[1;33m \u001b[0mf\u001b[0m\u001b[1;33m=\u001b[0m\u001b[0mopen\u001b[0m\u001b[1;33m(\u001b[0m\u001b[1;34m'E:/CDEX/Alpha/Data/newev.csv'\u001b[0m\u001b[1;33m,\u001b[0m\u001b[1;34m'wb'\u001b[0m\u001b[1;33m,\u001b[0m\u001b[0mnewline\u001b[0m\u001b[1;33m=\u001b[0m\u001b[1;34m''\u001b[0m\u001b[1;33m)\u001b[0m\u001b[1;33m\u001b[0m\u001b[1;33m\u001b[0m\u001b[0m\n\u001b[0m\u001b[0;32m      2\u001b[0m \u001b[0mf\u001b[0m\u001b[1;33m.\u001b[0m\u001b[0mwrite\u001b[0m\u001b[1;33m(\u001b[0m\u001b[0mevbg_count\u001b[0m\u001b[1;33m,\u001b[0m\u001b[1;34m','\u001b[0m\u001b[1;33m,\u001b[0m\u001b[0mevbg_AlphaR_count\u001b[0m\u001b[1;33m,\u001b[0m\u001b[1;34m','\u001b[0m\u001b[1;33m)\u001b[0m\u001b[1;33m\u001b[0m\u001b[1;33m\u001b[0m\u001b[0m\n",
      "\u001b[1;31mValueError\u001b[0m: binary mode doesn't take a newline argument"
     ]
    }
   ],
   "source": [
    "f=open('E:/CDEX/Alpha/Data/newev.csv','wb',newline='')\n",
    "f.write(evbg_count,',',evbg_AlphaR_count,',')"
   ]
  },
  {
   "cell_type": "code",
   "execution_count": 4,
   "metadata": {},
   "outputs": [],
   "source": [
    "##### Convert wpbg.fld to csv\n",
    "cm=0.01\n",
    "mm=0.001\n",
    "wp_sparse_path='E:/CDEX/Alpha/Data/ppc_wp_sparse.fld'\n",
    "wp_dense_path='E:/CDEX/Alpha/Data/ppc_wp_dense.fld'\n",
    "newwp_path=r'E:\\CDEX\\ovbb\\WaveSimulation\\SAGE_PSS-master\\SAGE_PSS-master\\Fields\\ppc_wp.csv'\n",
    "\n",
    "wpbg_count = len(open(wp_sparse_path,'r').readlines())\n",
    "wpbg_AlphaR_count = len(open(wp_dense_path,'r').readlines())\n",
    "with open(newwp_path,'w',newline='') as newfile: \n",
    "    writer=csv.writer(newfile)\n",
    "    writer.writerow([wpbg_count,wpbg_AlphaR_count])\n",
    "    \n",
    "    with open(wp_sparse_path,'r',) as evfile:\n",
    "        reader=evfile.readlines()[2:]\n",
    "        for line in reader:\n",
    "            Line=line.split(\" \")\n",
    "            for i in range(5):\n",
    "                if(i==3):\n",
    "                    continue\n",
    "                Line[i]=float(Line[i])\n",
    "            writer.writerow([Line[0]/mm,Line[2]/mm,Line[4]])\n",
    "            \n",
    "    with open(wp_dense_path,'r',) as evAlphafile:\n",
    "        reader=evAlphafile.readlines()[2:]\n",
    "        for line in reader:\n",
    "            Line=line.split(\" \")\n",
    "            for i in range(5):\n",
    "                if(i==3):\n",
    "                    continue\n",
    "                Line[i]=float(Line[i])\n",
    "            writer.writerow([Line[0]/mm,Line[2]/mm,Line[4]])        "
   ]
  },
  {
   "cell_type": "code",
   "execution_count": null,
   "metadata": {},
   "outputs": [],
   "source": []
  }
 ],
 "metadata": {
  "kernelspec": {
   "display_name": "Python 3",
   "language": "python",
   "name": "python3"
  },
  "language_info": {
   "codemirror_mode": {
    "name": "ipython",
    "version": 3
   },
   "file_extension": ".py",
   "mimetype": "text/x-python",
   "name": "python",
   "nbconvert_exporter": "python",
   "pygments_lexer": "ipython3",
   "version": "3.7.4"
  }
 },
 "nbformat": 4,
 "nbformat_minor": 2
}
