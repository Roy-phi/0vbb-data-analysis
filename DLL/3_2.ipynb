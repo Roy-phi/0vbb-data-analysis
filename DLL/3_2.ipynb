{
 "cells": [
  {
   "cell_type": "code",
   "execution_count": 1,
   "id": "vocational-front",
   "metadata": {},
   "outputs": [],
   "source": [
    "##packages\n",
    "import torch\n",
    "import matplotlib.pyplot as plt\n",
    "import math\n",
    "import random"
   ]
  },
  {
   "cell_type": "code",
   "execution_count": 2,
   "id": "removed-pharmacy",
   "metadata": {},
   "outputs": [
    {
     "data": {
      "text/plain": [
       "<matplotlib.collections.PathCollection at 0x1f2d33a0fc8>"
      ]
     },
     "execution_count": 2,
     "metadata": {},
     "output_type": "execute_result"
    },
    {
     "data": {
      "image/png": "[encoded data removed]",
      "text/plain": [
       "<Figure size 432x288 with 1 Axes>"
      ]
     },
     "metadata": {
      "needs_background": "light"
     },
     "output_type": "display_data"
    }
   ],
   "source": [
    "####generate data set\n",
    "def data_gen(w,b,nums): #@save\n",
    "    X=torch.normal(0,1,(nums,len(w)))\n",
    "    y=torch.mm(X,w)+b\n",
    "    y+=torch.normal(0,0.1,y.shape)\n",
    "    return X,y\n",
    "\n",
    "true_w=torch.tensor([2.5,3.5]).reshape(2,-1)\n",
    "true_b=torch.tensor([2])\n",
    "\n",
    "features,labels=data_gen(true_w,true_b,nums=1000)\n",
    "\n",
    "plt.scatter(features[:,0],labels)"
   ]
  },
  {
   "cell_type": "code",
   "execution_count": 3,
   "id": "powerful-occupation",
   "metadata": {},
   "outputs": [
    {
     "name": "stdout",
     "output_type": "stream",
     "text": [
      "tensor([[ 1.3380],\n",
      "        [ 3.9027],\n",
      "        [ 6.5441],\n",
      "        [ 4.2401],\n",
      "        [10.7223],\n",
      "        [ 3.5110],\n",
      "        [ 1.4654],\n",
      "        [-0.8777],\n",
      "        [ 6.1443],\n",
      "        [ 2.0157],\n",
      "        [ 1.1114],\n",
      "        [ 1.5108],\n",
      "        [ 5.7111],\n",
      "        [-1.4994],\n",
      "        [ 3.8797],\n",
      "        [ 3.3276],\n",
      "        [ 5.0966],\n",
      "        [-1.4153],\n",
      "        [-3.4925],\n",
      "        [ 5.5305]]) \n",
      " tensor([[ 1.1413, -0.9879],\n",
      "        [-0.5712,  0.9500],\n",
      "        [ 0.4265,  0.9628],\n",
      "        [ 1.2083, -0.2646],\n",
      "        [ 2.4843,  0.7733],\n",
      "        [-0.0062,  0.4145],\n",
      "        [ 0.0056, -0.1688],\n",
      "        [ 1.4455, -1.8125],\n",
      "        [ 0.3163,  0.9956],\n",
      "        [-1.3866,  1.0064],\n",
      "        [-1.4189,  0.7539],\n",
      "        [-0.9549,  0.5624],\n",
      "        [-0.7655,  1.6143],\n",
      "        [ 1.1391, -1.7760],\n",
      "        [ 0.8383, -0.0853],\n",
      "        [ 0.2663,  0.1999],\n",
      "        [-0.7599,  1.4378],\n",
      "        [-0.9895, -0.2395],\n",
      "        [ 0.6151, -1.9723],\n",
      "        [ 0.8962,  0.4016]])\n"
     ]
    }
   ],
   "source": [
    "#generate batch\n",
    "def gen_batch(labels,features,batchsize):\n",
    "    nums=len(labels)\n",
    "    index=list(range(0,nums))\n",
    "    random.shuffle(index)\n",
    "    for i in range(math.ceil(nums/batchsize)):\n",
    "        batch_index=torch.tensor(index[i*batchsize:min((i+1)*batchsize,nums)])\n",
    "        yield labels[batch_index],features[batch_index]\n",
    "        \n",
    "for y,X in gen_batch(labels,features,20):\n",
    "    print(y,'\\n',X)\n",
    "    break"
   ]
  },
  {
   "cell_type": "code",
   "execution_count": 4,
   "id": "athletic-tulsa",
   "metadata": {},
   "outputs": [
    {
     "data": {
      "text/plain": [
       "[<matplotlib.lines.Line2D at 0x1f2d34ad108>]"
      ]
     },
     "execution_count": 4,
     "metadata": {},
     "output_type": "execute_result"
    },
    {
     "data": {
      "image/png": "[encoded data removed]",
      "text/plain": [
       "<Figure size 432x288 with 1 Axes>"
      ]
     },
     "metadata": {
      "needs_background": "light"
     },
     "output_type": "display_data"
    }
   ],
   "source": [
    "##linear model\n",
    "def ling(X,w,b):\n",
    "    return torch.mm(X,w)+b\n",
    "\n",
    "plt.plot(ling(features,true_w,true_b),labels)"
   ]
  },
  {
   "cell_type": "code",
   "execution_count": 5,
   "id": "undefined-teach",
   "metadata": {},
   "outputs": [],
   "source": [
    "###loss function\n",
    "def loss(labels,prediction):\n",
    "    return (labels-prediction)**2/2"
   ]
  },
  {
   "cell_type": "code",
   "execution_count": 6,
   "id": "smart-explorer",
   "metadata": {},
   "outputs": [],
   "source": [
    "def sgd(params,lr,batchsize):\n",
    "    with torch.no_grad():\n",
    "        for param in params:\n",
    "            param -= lr*param.grad/batchsize\n",
    "            param.grad.zero_()"
   ]
  },
  {
   "cell_type": "code",
   "execution_count": 7,
   "id": "decreased-colombia",
   "metadata": {},
   "outputs": [
    {
     "name": "stdout",
     "output_type": "stream",
     "text": [
      "tensor([[1.4468],\n",
      "        [2.1428]], requires_grad=True) \n",
      " tensor([[1.2068]], requires_grad=True)\n",
      "tensor([[2.0568],\n",
      "        [2.9744]], requires_grad=True) \n",
      " tensor([[1.6832]], requires_grad=True)\n",
      "tensor([[2.3131],\n",
      "        [3.2975]], requires_grad=True) \n",
      " tensor([[1.8718]], requires_grad=True)\n",
      "tensor([[2.4204],\n",
      "        [3.4229]], requires_grad=True) \n",
      " tensor([[1.9483]], requires_grad=True)\n",
      "tensor([[2.4663],\n",
      "        [3.4730]], requires_grad=True) \n",
      " tensor([[1.9785]], requires_grad=True)\n",
      "tensor([[2.4851],\n",
      "        [3.4915]], requires_grad=True) \n",
      " tensor([[1.9908]], requires_grad=True)\n",
      "tensor([[2.4931],\n",
      "        [3.4982]], requires_grad=True) \n",
      " tensor([[1.9958]], requires_grad=True)\n"
     ]
    }
   ],
   "source": [
    "### train\n",
    "lr=0.01\n",
    "batchsize=10\n",
    "epoch=7\n",
    "w=torch.zeros((2,1),requires_grad=True)\n",
    "b=torch.zeros((1,1),requires_grad=True)\n",
    "for i in range(epoch):\n",
    "    for label,feature in gen_batch(labels,features,batchsize):\n",
    "        y=ling(feature,w,b)\n",
    "        l=loss(label,y)\n",
    "        l.sum().backward()\n",
    "        sgd([w,b],lr,batchsize)\n",
    "    with torch.no_grad():\n",
    "        print(w,'\\n',b)"
   ]
  },
  {
   "cell_type": "code",
   "execution_count": null,
   "id": "driving-count",
   "metadata": {},
   "outputs": [],
   "source": []
  }
 ],
 "metadata": {
  "kernelspec": {
   "display_name": "Python 3",
   "language": "python",
   "name": "python3"
  },
  "language_info": {
   "codemirror_mode": {
    "name": "ipython",
    "version": 3
   },
   "file_extension": ".py",
   "mimetype": "text/x-python",
   "name": "python",
   "nbconvert_exporter": "python",
   "pygments_lexer": "ipython3",
   "version": "3.7.4"
  }
 },
 "nbformat": 4,
 "nbformat_minor": 5
}
