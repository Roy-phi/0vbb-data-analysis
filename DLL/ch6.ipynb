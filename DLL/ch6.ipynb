{
 "cells": [
  {
   "cell_type": "code",
   "execution_count": 4,
   "id": "professional-bulgaria",
   "metadata": {},
   "outputs": [],
   "source": [
    "import torch\n",
    "from torch import tensor\n",
    "from torch import nn"
   ]
  },
  {
   "cell_type": "code",
   "execution_count": 28,
   "id": "hairy-probability",
   "metadata": {},
   "outputs": [],
   "source": [
    "def cross2d(X,Y):\n",
    "    hight=Y.shape[0]\n",
    "    width=Y.shape[1]\n",
    "    out_h=X.shape[0]-hight+1\n",
    "    out_w=X.shape[1]-width+1\n",
    "    out  = torch.zeros(size=(out_h,out_w),dtype=torch.float)\n",
    "    for i in range(out_h):\n",
    "        for j in range(out_w):\n",
    "            out[i,j]=(X[i:i+hight,j:j+width]*Y).sum()\n",
    "    return out"
   ]
  },
  {
   "cell_type": "code",
   "execution_count": 43,
   "id": "synthetic-basket",
   "metadata": {},
   "outputs": [
    {
     "data": {
      "text/plain": [
       "tensor([[ 0.,  1.,  0.,  0.,  0., -1.,  0.],\n",
       "        [ 0.,  1.,  0.,  0.,  0., -1.,  0.],\n",
       "        [ 0.,  1.,  0.,  0.,  0., -1.,  0.],\n",
       "        [ 0.,  1.,  0.,  0.,  0., -1.,  0.],\n",
       "        [ 0.,  1.,  0.,  0.,  0., -1.,  0.],\n",
       "        [ 0.,  1.,  0.,  0.,  0., -1.,  0.]])"
      ]
     },
     "execution_count": 43,
     "metadata": {},
     "output_type": "execute_result"
    }
   ],
   "source": [
    "X=torch.ones(size=(6,8))\n",
    "X[:,2:6]=0\n",
    "K=torch.tensor([1,-1]).reshape(1,-1)\n",
    "Y=cross2d(X,K)\n",
    "Y"
   ]
  },
  {
   "cell_type": "code",
   "execution_count": 34,
   "id": "military-installation",
   "metadata": {},
   "outputs": [],
   "source": [
    "#define convolution\n",
    "class Conv2D(nn.Module):\n",
    "    def __init__(self, kernel_size):\n",
    "        super(self.__init__(kernel_size))\n",
    "        self.weight=nn.Parameter(torch.rand(kernel_size))\n",
    "        self.bias=nn.Parameter(torch.zeros(1))\n",
    "        \n",
    "    def forward(self, x):\n",
    "        return cross2d(x,self.weight)+self.bias\n",
    "        "
   ]
  },
  {
   "cell_type": "code",
   "execution_count": 31,
   "id": "indie-judgment",
   "metadata": {},
   "outputs": [
    {
     "data": {
      "text/plain": [
       "\u001b[1;31mSignature:\u001b[0m \u001b[0mnn\u001b[0m\u001b[1;33m.\u001b[0m\u001b[0mModule\u001b[0m\u001b[1;33m.\u001b[0m\u001b[0mzero_grad\u001b[0m\u001b[1;33m(\u001b[0m\u001b[0mself\u001b[0m\u001b[1;33m,\u001b[0m \u001b[0mset_to_none\u001b[0m\u001b[1;33m:\u001b[0m \u001b[0mbool\u001b[0m \u001b[1;33m=\u001b[0m \u001b[1;32mFalse\u001b[0m\u001b[1;33m)\u001b[0m \u001b[1;33m->\u001b[0m \u001b[1;32mNone\u001b[0m\u001b[1;33m\u001b[0m\u001b[1;33m\u001b[0m\u001b[0m\n",
       "\u001b[1;31mDocstring:\u001b[0m\n",
       "Sets gradients of all model parameters to zero. See similar function\n",
       "under :class:`torch.optim.Optimizer` for more context.\n",
       "\n",
       "Args:\n",
       "    set_to_none (bool): instead of setting to zero, set the grads to None.\n",
       "        See :meth:`torch.optim.Optimizer.zero_grad` for details.\n",
       "\u001b[1;31mFile:\u001b[0m      d:\\anaconda\\lib\\site-packages\\torch\\nn\\modules\\module.py\n",
       "\u001b[1;31mType:\u001b[0m      function\n"
      ]
     },
     "metadata": {},
     "output_type": "display_data"
    }
   ],
   "source": [
    "?nn.Module.zero_grad"
   ]
  },
  {
   "cell_type": "code",
   "execution_count": 46,
   "id": "military-atlas",
   "metadata": {},
   "outputs": [
    {
     "name": "stdout",
     "output_type": "stream",
     "text": [
      "tensor(19.2946, grad_fn=<SumBackward0>)\n",
      "tensor(3.4450, grad_fn=<SumBackward0>)\n",
      "tensor(0.9592, grad_fn=<SumBackward0>)\n",
      "tensor(0.2672, grad_fn=<SumBackward0>)\n",
      "tensor(0.0744, grad_fn=<SumBackward0>)\n",
      "tensor(0.0207, grad_fn=<SumBackward0>)\n",
      "tensor(0.0058, grad_fn=<SumBackward0>)\n",
      "tensor(0.0016, grad_fn=<SumBackward0>)\n",
      "tensor(0.0004, grad_fn=<SumBackward0>)\n",
      "tensor(0.0001, grad_fn=<SumBackward0>)\n"
     ]
    }
   ],
   "source": [
    "conv2d=nn.Conv2d(1,1,kernel_size=(1,2),bias=False)\n",
    "\n",
    "X=X.reshape((1,1,6,-1))\n",
    "Y=Y.reshape((1,1,6,-1))\n",
    "lamb=0.01\n",
    "\n",
    "for i in range(50):\n",
    "    Y_hat=conv2d(X)\n",
    "    l=(Y-Y_hat)**2\n",
    "    conv2d.zero_grad()\n",
    "    l.sum().backward()\n",
    "    \n",
    "    conv2d.weight.data[:] -= lamb*conv2d.weight.grad\n",
    "    if(i%5==0):\n",
    "        print(l.sum())"
   ]
  },
  {
   "cell_type": "code",
   "execution_count": 51,
   "id": "loving-uncle",
   "metadata": {},
   "outputs": [],
   "source": [
    "from d2l import torch as d2l\n",
    "import torch\n",
    "\n",
    "def corr2d_multi(X,K):\n",
    "    return sum(d2l.corr2d(x,k) for x,k in zip(X,K))"
   ]
  },
  {
   "cell_type": "code",
   "execution_count": 53,
   "id": "painted-minnesota",
   "metadata": {},
   "outputs": [
    {
     "name": "stdout",
     "output_type": "stream",
     "text": [
      "tensor([[6., 6.],\n",
      "        [6., 6.],\n",
      "        [6., 6.]])\n"
     ]
    }
   ],
   "source": [
    "X=torch.ones(size=(2,3,4))\n",
    "K=torch.ones(size=(2,1,3))\n",
    "print(corr2d_multi(X,K))"
   ]
  },
  {
   "cell_type": "code",
   "execution_count": 54,
   "id": "fabulous-bookmark",
   "metadata": {},
   "outputs": [
    {
     "name": "stdout",
     "output_type": "stream",
     "text": [
      "tensor([[[ 6.,  6.],\n",
      "         [ 6.,  6.],\n",
      "         [ 6.,  6.]],\n",
      "\n",
      "        [[12., 12.],\n",
      "         [12., 12.],\n",
      "         [12., 12.]],\n",
      "\n",
      "        [[18., 18.],\n",
      "         [18., 18.],\n",
      "         [18., 18.]]])\n"
     ]
    }
   ],
   "source": [
    "def corr2d_multi_in_out(X,K):\n",
    "    return torch.stack([corr2d_multi(X,k) for k in K],0)\n",
    "K=torch.stack([K,K+1,K+2],0)\n",
    "print(corr2d_multi_in_out(X,K))"
   ]
  },
  {
   "cell_type": "code",
   "execution_count": 58,
   "id": "front-exclusion",
   "metadata": {},
   "outputs": [],
   "source": [
    "def corr2d_in_out_1x1(X,K):\n",
    "    c_i,h,w= X.shape\n",
    "    c_o=K.shape[0]\n",
    "    X=X.reshape((c_i,h*w))\n",
    "    K=K.reshape((c_o,c_i)) #cause this is 1X1!\n",
    "    Y=torch.matmul(K,X)\n",
    "    return Y.reshape((c_o,h,w))\n",
    "    "
   ]
  },
  {
   "cell_type": "code",
   "execution_count": 59,
   "id": "ranking-spring",
   "metadata": {},
   "outputs": [
    {
     "data": {
      "text/plain": [
       "tensor([[[3., 3., 3.],\n",
       "         [3., 3., 3.],\n",
       "         [3., 3., 3.]],\n",
       "\n",
       "        [[3., 3., 3.],\n",
       "         [3., 3., 3.],\n",
       "         [3., 3., 3.]]])"
      ]
     },
     "execution_count": 59,
     "metadata": {},
     "output_type": "execute_result"
    }
   ],
   "source": [
    "K=torch.ones(size=(2,3,1,1))\n",
    "X=torch.ones(size=(3,3,3))\n",
    "Y=corr2d_in_out_1x1(X,K)\n",
    "Y"
   ]
  },
  {
   "cell_type": "code",
   "execution_count": 6,
   "id": "continuing-graph",
   "metadata": {},
   "outputs": [],
   "source": [
    "def pool2d(X,pool_h,pool_w):\n",
    "    h,w= X.shape\n",
    "    out=torch.zeros(size=(h-pool_h+1,w-pool_w+1))\n",
    "    for i in range(h-pool_h+1):\n",
    "        for j in range(w-pool_w+1):\n",
    "            out[i,j]=X[i:i+pool_h,j:j+pool_w].max()\n",
    "    return out\n",
    "            "
   ]
  },
  {
   "cell_type": "code",
   "execution_count": 10,
   "id": "banner-aviation",
   "metadata": {},
   "outputs": [
    {
     "name": "stdout",
     "output_type": "stream",
     "text": [
      "tensor([[ 1.2360,  1.2360,  0.7705,  1.4596],\n",
      "        [ 0.4213,  0.6769,  0.8251,  1.4596],\n",
      "        [-0.2091,  0.6769,  0.8251,  0.8251],\n",
      "        [-0.2091,  0.5615,  0.5615,  0.5960]])\n",
      "tensor([[-0.1414,  1.2360, -1.1413,  0.7705, -0.7763],\n",
      "        [ 0.4213, -0.1318, -0.9049, -1.0760,  1.4596],\n",
      "        [-0.3071, -0.5148,  0.6769,  0.8251, -0.5902],\n",
      "        [-0.2091, -0.4490,  0.5615, -1.5272,  0.5960],\n",
      "        [-0.5863, -1.1539, -1.2078, -0.6966,  0.0230]])\n"
     ]
    }
   ],
   "source": [
    "X=torch.normal(0,1,size=(5,5))\n",
    "out=pool2d(X,2,2)\n",
    "print(out)\n",
    "print(X)"
   ]
  },
  {
   "cell_type": "code",
   "execution_count": null,
   "id": "olive-marketing",
   "metadata": {},
   "outputs": [],
   "source": []
  }
 ],
 "metadata": {
  "kernelspec": {
   "display_name": "Python 3",
   "language": "python",
   "name": "python3"
  },
  "language_info": {
   "codemirror_mode": {
    "name": "ipython",
    "version": 3
   },
   "file_extension": ".py",
   "mimetype": "text/x-python",
   "name": "python",
   "nbconvert_exporter": "python",
   "pygments_lexer": "ipython3",
   "version": "3.7.4"
  }
 },
 "nbformat": 4,
 "nbformat_minor": 5
}
