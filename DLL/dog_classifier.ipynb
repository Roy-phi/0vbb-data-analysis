{
 "cells": [
  {
   "cell_type": "code",
   "execution_count": 1,
   "id": "egyptian-liver",
   "metadata": {},
   "outputs": [],
   "source": [
    "import os\n",
    "import torch\n",
    "import torchvision\n",
    "from torch import nn\n",
    "from d2l import torch as d2l"
   ]
  },
  {
   "cell_type": "code",
   "execution_count": 2,
   "id": "written-artwork",
   "metadata": {},
   "outputs": [],
   "source": [
    "import d2l"
   ]
  },
  {
   "cell_type": "code",
   "execution_count": 3,
   "id": "rocky-authorization",
   "metadata": {},
   "outputs": [],
   "source": [
    "u=[1.07004,-3.10918e-5,-8.154268e-9]\n",
    "s=[3.7247855e-3,1.434934e-7,0]"
   ]
  },
  {
   "cell_type": "code",
   "execution_count": 4,
   "id": "pleasant-melissa",
   "metadata": {},
   "outputs": [
    {
     "name": "stdout",
     "output_type": "stream",
     "text": [
      "[0.8852440920000001, -2.572224614e-05, -6.746025916400001e-09]\n",
      "[0.0030815150441500004, 1.1871208982e-07, 0.0]\n"
     ]
    }
   ],
   "source": [
    "print([i*0.8273 for i in u ])\n",
    "print([i*0.8273 for i in s])"
   ]
  },
  {
   "cell_type": "code",
   "execution_count": null,
   "id": "logical-arbitration",
   "metadata": {},
   "outputs": [],
   "source": []
  },
  {
   "cell_type": "code",
   "execution_count": null,
   "id": "outer-contractor",
   "metadata": {},
   "outputs": [],
   "source": []
  },
  {
   "cell_type": "code",
   "execution_count": null,
   "id": "sporting-artist",
   "metadata": {},
   "outputs": [],
   "source": []
  }
 ],
 "metadata": {
  "kernelspec": {
   "display_name": "Python 3",
   "language": "python",
   "name": "python3"
  },
  "language_info": {
   "codemirror_mode": {
    "name": "ipython",
    "version": 3
   },
   "file_extension": ".py",
   "mimetype": "text/x-python",
   "name": "python",
   "nbconvert_exporter": "python",
   "pygments_lexer": "ipython3",
   "version": "3.7.4"
  }
 },
 "nbformat": 4,
 "nbformat_minor": 5
}
