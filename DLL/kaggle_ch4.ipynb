{
 "cells": [
  {
   "cell_type": "code",
   "execution_count": 3,
   "id": "contrary-exhibit",
   "metadata": {},
   "outputs": [],
   "source": [
    "import os\n",
    "import hashlib\n",
    "import tarfile\n",
    "import zipfile\n",
    "import requests\n",
    "DATA_HUB=dict()\n",
    "DATA_URL='http://d2l-data.s3-accelerate.amazonaws.com/'"
   ]
  },
  {
   "cell_type": "code",
   "execution_count": 5,
   "id": "historical-wheel",
   "metadata": {},
   "outputs": [],
   "source": [
    "%run Write.py"
   ]
  },
  {
   "cell_type": "code",
   "execution_count": 2,
   "id": "provincial-liberal",
   "metadata": {},
   "outputs": [
    {
     "data": {
      "text/plain": [
       "\u001b[1;31mDocstring:\u001b[0m\n",
       "waitKey([, delay]) -> retval\n",
       ".   @brief Waits for a pressed key.\n",
       ".   \n",
       ".   The function waitKey waits for a key event infinitely (when \\f$\\texttt{delay}\\leq 0\\f$ ) or for delay\n",
       ".   milliseconds, when it is positive. Since the OS has a minimum time between switching threads, the\n",
       ".   function will not wait exactly delay ms, it will wait at least delay ms, depending on what else is\n",
       ".   running on your computer at that time. It returns the code of the pressed key or -1 if no key was\n",
       ".   pressed before the specified time had elapsed.\n",
       ".   \n",
       ".   @note\n",
       ".   \n",
       ".   This function is the only method in HighGUI that can fetch and handle events, so it needs to be\n",
       ".   called periodically for normal event processing unless HighGUI is used within an environment that\n",
       ".   takes care of event processing.\n",
       ".   \n",
       ".   @note\n",
       ".   \n",
       ".   The function only works if there is at least one HighGUI window created and the window is active.\n",
       ".   If there are several HighGUI windows, any of them can be active.\n",
       ".   \n",
       ".   @param delay Delay in milliseconds. 0 is the special value that means \"forever\".\n",
       "\u001b[1;31mType:\u001b[0m      builtin_function_or_method\n"
      ]
     },
     "metadata": {},
     "output_type": "display_data"
    }
   ],
   "source": [
    "import cv2\n",
    "?cv2.waitKey"
   ]
  }
 ],
 "metadata": {
  "kernelspec": {
   "display_name": "Python 3",
   "language": "python",
   "name": "python3"
  },
  "language_info": {
   "codemirror_mode": {
    "name": "ipython",
    "version": 3
   },
   "file_extension": ".py",
   "mimetype": "text/x-python",
   "name": "python",
   "nbconvert_exporter": "python",
   "pygments_lexer": "ipython3",
   "version": "3.7.4"
  }
 },
 "nbformat": 4,
 "nbformat_minor": 5
}
