{
 "cells": [
  {
   "cell_type": "code",
   "execution_count": 5,
   "metadata": {},
   "outputs": [],
   "source": [
    "import numpy as np\n",
    "from tensorflow import keras\n",
    "import math\n",
    "from tensorflow.keras import backend as K\n",
    "from tensorflow.keras.models import Model, Sequential\n",
    "from tensorflow.keras.layers import Bidirectional, Concatenate, Input, Dense, Dropout, Flatten, Multiply, Add\n",
    "from tensorflow.keras.layers import Conv2D, MaxPooling2D, GRU, Conv1D, MaxPooling1D\n",
    "from tensorflow.keras.optimizers import SGD\n",
    "from tensorflow.keras.layers import Lambda\n",
    "\n",
    "from PIL import Image, ImageFile\n",
    "import os\n",
    "import cv2\n",
    "from scipy.fftpack import fft\n",
    "\n",
    "from tensorflow.compat.v1 import ConfigProto\n",
    "from tensorflow.compat.v1 import InteractiveSession"
   ]
  },
  {
   "cell_type": "code",
   "execution_count": null,
   "metadata": {},
   "outputs": [],
   "source": [
    "#参数配置\n",
    "config=ConfigProto()\n",
    "config.gpu_options_allowed_growth=True\n",
    "session=InteractiveSession(config)\n",
    "\n",
    "#建模\n",
    "def build_model():\n",
    "    #参数设置\n",
    "    convsize=3\n",
    "    pool_size=2\n",
    "    \n",
    "    LI=Input(shape=(224,224,3))\n",
    "    \n",
    "    #第一层\n",
    "    L1=Conv2D(64,convsize,activation=\"relu\")(LI)\n",
    "    M1=MaxPooling2D(pool_size=pool_size)(L1)\n",
    "    #第二层卷积\n",
    "    L2=Conv2D(128,convsize,activation=\"relu\")(M1)\n",
    "    M2=MaxPooling2D(pool_size=pool_size)(L2)\n",
    "    \n",
    "    #第三层\n",
    "    L3=Conv2D(256,convsize,activation=\"relu\")(M2)\n",
    "    M3=MaxPooling2D(pool_size=pool_size)(L3)\n",
    "    \n",
    "    \n",
    "    \n",
    "    "
   ]
  }
 ],
 "metadata": {
  "kernelspec": {
   "display_name": "Python 3",
   "language": "python",
   "name": "python3"
  },
  "language_info": {
   "codemirror_mode": {
    "name": "ipython",
    "version": 3
   },
   "file_extension": ".py",
   "mimetype": "text/x-python",
   "name": "python",
   "nbconvert_exporter": "python",
   "pygments_lexer": "ipython3",
   "version": "3.7.4"
  }
 },
 "nbformat": 4,
 "nbformat_minor": 2
}
