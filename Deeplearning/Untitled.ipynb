{
 "cells": [
  {
   "cell_type": "code",
   "execution_count": 2,
   "id": "related-hepatitis",
   "metadata": {},
   "outputs": [
    {
     "name": "stdout",
     "output_type": "stream",
     "text": [
      "[[ 1.40611682 -0.64834907]\n",
      " [-0.92847867 -0.49345981]\n",
      " [-0.94472743  0.49314494]\n",
      " [ 0.75804091 -2.66084234]\n",
      " [ 0.14052623 -0.30183053]]\n"
     ]
    }
   ],
   "source": [
    "import numpy as np\n",
    "a=np.random.randn(5,2)\n",
    "b=np.ones((5,1))\n",
    "print(a*b)"
   ]
  },
  {
   "cell_type": "code",
   "execution_count": 4,
   "id": "freelance-literacy",
   "metadata": {},
   "outputs": [],
   "source": [
    "from IPython.display import GeoJSON"
   ]
  },
  {
   "cell_type": "code",
   "execution_count": 5,
   "id": "fantastic-composition",
   "metadata": {},
   "outputs": [
    {
     "ename": "NameError",
     "evalue": "name 's' is not defined",
     "output_type": "error",
     "traceback": [
      "\u001b[1;31m---------------------------------------------------------------------------\u001b[0m",
      "\u001b[1;31mNameError\u001b[0m                                 Traceback (most recent call last)",
      "\u001b[1;32m<ipython-input-5-1ba2c82daef6>\u001b[0m in \u001b[0;36m<module>\u001b[1;34m\u001b[0m\n\u001b[1;32m----> 1\u001b[1;33m \u001b[0mGeoJSON\u001b[0m\u001b[1;33m(\u001b[0m\u001b[0ms\u001b[0m\u001b[1;33m,\u001b[0m\u001b[0mlayeroptions\u001b[0m\u001b[1;33m=\u001b[0m\u001b[1;33m{\u001b[0m\u001b[1;34m'minZoom'\u001b[0m\u001b[1;33m:\u001b[0m\u001b[1;36m11\u001b[0m\u001b[1;33m}\u001b[0m\u001b[1;33m)\u001b[0m\u001b[1;33m\u001b[0m\u001b[1;33m\u001b[0m\u001b[0m\n\u001b[0m",
      "\u001b[1;31mNameError\u001b[0m: name 's' is not defined"
     ]
    }
   ],
   "source": [
    "GeoJSON(s,layer_options={'minZoom':11})"
   ]
  },
  {
   "cell_type": "code",
   "execution_count": null,
   "id": "military-video",
   "metadata": {},
   "outputs": [],
   "source": []
  }
 ],
 "metadata": {
  "kernelspec": {
   "display_name": "Python 3",
   "language": "python",
   "name": "python3"
  },
  "language_info": {
   "codemirror_mode": {
    "name": "ipython",
    "version": 3
   },
   "file_extension": ".py",
   "mimetype": "text/x-python",
   "name": "python",
   "nbconvert_exporter": "python",
   "pygments_lexer": "ipython3",
   "version": "3.7.4"
  }
 },
 "nbformat": 4,
 "nbformat_minor": 5
}
