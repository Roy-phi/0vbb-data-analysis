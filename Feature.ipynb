{
 "cells": [
  {
   "cell_type": "code",
   "execution_count": 2,
   "metadata": {},
   "outputs": [],
   "source": [
    "import tensorflow.keras as keras\n",
    "import os\n",
    "import cv2\n",
    "from PIL import Image, ImageFile,ImageStat\n",
    "from sklearn import svm\n",
    "from tensorflow.keras.preprocessing import image\n",
    "import numpy as np\n",
    "import math\n",
    "import matplotlib.pyplot as plt"
   ]
  },
  {
   "cell_type": "code",
   "execution_count": 25,
   "metadata": {},
   "outputs": [],
   "source": [
    "def getImageVar(imgPath):\n",
    "    image = cv2.imread(imgPath);\n",
    "    img2gray = cv2.cvtColor(image, cv2.COLOR_BGR2GRAY)\n",
    "    imageVar = cv2.Laplacian(img2gray, cv2.CV_64F).var()\n",
    "    return imageVar\n",
    "def brightness( im_file ):\n",
    "    ''''\n",
    "    i=cv2.imread(im_file)\n",
    "    color=np.zeros((1,3))\n",
    "    for j in np.arange(3):\n",
    "        color[j]=np.mean(i[:,:,j])\n",
    "    a=color.max()/color.min()\n",
    "    '''\n",
    "    im = Image.open(im_file).convert('L')\n",
    "    stat = ImageStat.Stat(im)\n",
    "    return stat.mean[0],stat.rms[0]#,a,color[0],color[1],color[2]"
   ]
  },
  {
   "cell_type": "code",
   "execution_count": 27,
   "metadata": {},
   "outputs": [],
   "source": [
    "filenames=[]\n",
    "features=[]\n",
    "labels=[]\n",
    "cnt=0\n",
    "\n",
    "def getFile(folder,y):\n",
    "    global filenames\n",
    "    global features\n",
    "    global cnt\n",
    "    path='E:/LectureFile/datamining/traindata/'+folder+'/'\n",
    "    dir = path\n",
    "    for root, dir, files in os.walk(dir):\n",
    "        for file in files:\n",
    "            fname=str(file)\n",
    "            if fname[-4:]!='.gif':\n",
    "                imagepath=path+fname\n",
    "                img=Image.open(imagepath)\n",
    "                #var=getImageVar(imagepath)\n",
    "                mean,rms=brightness(imagepath)\n",
    "                features.append([img.size[0],img.size[1],0,mean,rms,y])\n",
    "                cnt+=1\n",
    "                if cnt%1000==0:\n",
    "                    print(cnt)      "
   ]
  },
  {
   "cell_type": "code",
   "execution_count": 28,
   "metadata": {},
   "outputs": [
    {
     "name": "stdout",
     "output_type": "stream",
     "text": [
      "1000\n",
      "2000\n",
      "3000\n",
      "4000\n",
      "5000\n",
      "6000\n",
      "7000\n",
      "8000\n",
      "9000\n",
      "10000\n",
      "11000\n",
      "12000\n",
      "13000\n",
      "14000\n"
     ]
    }
   ],
   "source": [
    "getFile('rumor_pic',0)\n",
    "getFile('true_pic_1',1)"
   ]
  },
  {
   "cell_type": "code",
   "execution_count": 38,
   "metadata": {
    "scrolled": false
   },
   "outputs": [
    {
     "data": {
      "image/png": "[encoded data removed]",
      "text/plain": [
       "<Figure size 432x288 with 2 Axes>"
      ]
     },
     "metadata": {
      "needs_background": "light"
     },
     "output_type": "display_data"
    },
    {
     "data": {
      "text/plain": [
       "<Figure size 720x720 with 0 Axes>"
      ]
     },
     "metadata": {},
     "output_type": "display_data"
    }
   ],
   "source": [
    "Tsize=Feature[Feature[:,5]==1,0]*(Feature[Feature[:,5]==1,1])\n",
    "Fsize=Feature[Feature[:,5]==0,0]*(Feature[Feature[:,5]==0,1])\n",
    "Feature=np.array(features)\n",
    "fig,ax=plt.subplots(1,2)\n",
    "plt.figure(figsize=(10,10)) \n",
    "ax[0].scatter(Feature[Feature[:,5]==1,0],Feature[Feature[:,5]==1,1],marker='o',c='b')\n",
    "ax[0].scatter(Feature[Feature[:,5]==0,0],Feature[Feature[:,5]==0,1],marker='^',c='r')\n",
    "#ax[1].violinplot([Feature[Feature[:,5]==0,3],Feature[Feature[:,5]==1,3],Feature[Feature[:,5]==0,4],Feature[Feature[:,5]==1,4]])\n",
    "ax[1].scatter(Tsize,Feature[Feature[:,5]==1,4],marker='^',c='r')\n",
    "ax[1].scatter(Fsize,Feature[Feature[:,5]==0,4],marker='o',c='b')\n",
    "\n",
    "ax[0].set_xscale('log')\n",
    "ax[0].set_yscale('log')\n",
    "\n",
    "plt.show()"
   ]
  },
  {
   "cell_type": "code",
   "execution_count": 65,
   "metadata": {},
   "outputs": [
    {
     "data": {
      "text/plain": [
       "array([[360.        , 639.        ,   0.        , 105.63086854,\n",
       "        142.3558309 ,   0.        ],\n",
       "       [180.        , 180.        ,   0.        , 165.01154321,\n",
       "        181.73045856,   0.        ],\n",
       "       [650.        , 460.        ,   0.        ,  76.19006355,\n",
       "         99.10103025,   0.        ],\n",
       "       [440.        , 765.        ,   0.        , 216.35596554,\n",
       "        222.42810555,   0.        ],\n",
       "       [360.        , 640.        ,   0.        , 114.54775174,\n",
       "        120.37629449,   0.        ],\n",
       "       [360.        , 270.        ,   0.        , 159.97049383,\n",
       "        165.599595  ,   0.        ],\n",
       "       [690.        , 518.        ,   0.        , 170.52151251,\n",
       "        176.62150561,   0.        ],\n",
       "       [406.        , 270.        ,   0.        , 120.14954388,\n",
       "        133.2622041 ,   0.        ],\n",
       "       [480.        , 640.        ,   0.        , 136.20535482,\n",
       "        150.4467122 ,   0.        ],\n",
       "       [690.        , 469.        ,   0.        ,  71.18446587,\n",
       "         85.22752276,   0.        ]])"
      ]
     },
     "execution_count": 65,
     "metadata": {},
     "output_type": "execute_result"
    }
   ],
   "source": []
  },
  {
   "cell_type": "code",
   "execution_count": 56,
   "metadata": {},
   "outputs": [],
   "source": [
    "import itertools\n",
    "from collections import OrderedDict\n",
    "from functools import partial\n",
    "\n",
    "import numpy as np\n",
    "import matplotlib.pyplot as plt\n",
    "import matplotlib.ticker as mticker\n",
    "from cycler import cycler\n",
    "\n",
    "\n",
    "def filled_hist(ax, edges, values, bottoms=None, orientation='v',\n",
    "                **kwargs):\n",
    "    \"\"\"\n",
    "    Draw a histogram as a stepped patch.\n",
    "\n",
    "    Extra kwargs are passed through to `fill_between`\n",
    "\n",
    "    Parameters\n",
    "    ----------\n",
    "    ax : Axes\n",
    "        The axes to plot to\n",
    "\n",
    "    edges : array\n",
    "        A length n+1 array giving the left edges of each bin and the\n",
    "        right edge of the last bin.\n",
    "\n",
    "    values : array\n",
    "        A length n array of bin counts or values\n",
    "\n",
    "    bottoms : scalar or array, optional\n",
    "        A length n array of the bottom of the bars.  If None, zero is used.\n",
    "\n",
    "    orientation : {'v', 'h'}\n",
    "       Orientation of the histogram.  'v' (default) has\n",
    "       the bars increasing in the positive y-direction.\n",
    "\n",
    "    Returns\n",
    "    -------\n",
    "    ret : PolyCollection\n",
    "        Artist added to the Axes\n",
    "    \"\"\"\n",
    "    print(orientation)\n",
    "    if orientation not in 'hv':\n",
    "        raise ValueError(\"orientation must be in {{'h', 'v'}} \"\n",
    "                         \"not {o}\".format(o=orientation))\n",
    "\n",
    "    kwargs.setdefault('step', 'post')\n",
    "    edges = np.asarray(edges)\n",
    "    values = np.asarray(values)\n",
    "    if len(edges) - 1 != len(values):\n",
    "        raise ValueError('Must provide one more bin edge than value not: '\n",
    "                         'len(edges): {lb} len(values): {lv}'.format(\n",
    "                             lb=len(edges), lv=len(values)))\n",
    "\n",
    "    if bottoms is None:\n",
    "        bottoms = np.zeros_like(values)\n",
    "    if np.isscalar(bottoms):\n",
    "        bottoms = np.ones_like(values) * bottoms\n",
    "\n",
    "    values = np.r_[values, values[-1]]\n",
    "    bottoms = np.r_[bottoms, bottoms[-1]]\n",
    "    if orientation == 'h':\n",
    "        return ax.fill_betweenx(edges, values, bottoms,\n",
    "                                **kwargs)\n",
    "    elif orientation == 'v':\n",
    "        return ax.fill_between(edges, values, bottoms,\n",
    "                               **kwargs)\n",
    "    else:\n",
    "        raise AssertionError(\"you should never be here\")\n",
    "\n",
    "\n",
    "def stack_hist(ax, stacked_data, sty_cycle, bottoms=None,\n",
    "               hist_func=None, labels=None,\n",
    "               plot_func=None, plot_kwargs=None):\n",
    "    \"\"\"\n",
    "    ax : axes.Axes\n",
    "        The axes to add artists too\n",
    "\n",
    "    stacked_data : array or Mapping\n",
    "        A (N, M) shaped array.  The first dimension will be iterated over to\n",
    "        compute histograms row-wise\n",
    "\n",
    "    sty_cycle : Cycler or operable of dict\n",
    "        Style to apply to each set\n",
    "\n",
    "    bottoms : array, optional\n",
    "        The initial positions of the bottoms, defaults to 0\n",
    "\n",
    "    hist_func : callable, optional\n",
    "        Must have signature `bin_vals, bin_edges = f(data)`.\n",
    "        `bin_edges` expected to be one longer than `bin_vals`\n",
    "\n",
    "    labels : list of str, optional\n",
    "        The label for each set.\n",
    "\n",
    "        If not given and stacked data is an array defaults to 'default set {n}'\n",
    "\n",
    "        If stacked_data is a mapping, and labels is None, default to the keys\n",
    "        (which may come out in a random order).\n",
    "\n",
    "        If stacked_data is a mapping and labels is given then only\n",
    "        the columns listed by be plotted.\n",
    "\n",
    "    plot_func : callable, optional\n",
    "        Function to call to draw the histogram must have signature:\n",
    "\n",
    "          ret = plot_func(ax, edges, top, bottoms=bottoms,\n",
    "                          label=label, **kwargs)\n",
    "\n",
    "    plot_kwargs : dict, optional\n",
    "        Any extra kwargs to pass through to the plotting function.  This\n",
    "        will be the same for all calls to the plotting function and will\n",
    "        over-ride the values in cycle.\n",
    "\n",
    "    Returns\n",
    "    -------\n",
    "    arts : dict\n",
    "        Dictionary of artists keyed on their labels\n",
    "    \"\"\"\n",
    "    # deal with default binning function\n",
    "    if hist_func is None:\n",
    "        hist_func = np.histogram\n",
    "\n",
    "    # deal with default plotting function\n",
    "    if plot_func is None:\n",
    "        plot_func = filled_hist\n",
    "\n",
    "    # deal with default\n",
    "    if plot_kwargs is None:\n",
    "        plot_kwargs = {}\n",
    "    print(plot_kwargs)\n",
    "    try:\n",
    "        l_keys = stacked_data.keys()\n",
    "        label_data = True\n",
    "        if labels is None:\n",
    "            labels = l_keys\n",
    "\n",
    "    except AttributeError:\n",
    "        label_data = False\n",
    "        if labels is None:\n",
    "            labels = itertools.repeat(None)\n",
    "\n",
    "    if label_data:\n",
    "        loop_iter = enumerate((stacked_data[lab], lab, s)\n",
    "                              for lab, s in zip(labels, sty_cycle))\n",
    "    else:\n",
    "        loop_iter = enumerate(zip(stacked_data, labels, sty_cycle))\n",
    "\n",
    "    arts = {}\n",
    "    for j, (data, label, sty) in loop_iter:\n",
    "        if label is None:\n",
    "            label = 'dflt set {n}'.format(n=j)\n",
    "        label = sty.pop('label', label)\n",
    "        vals, edges = hist_func(data)\n",
    "        if bottoms is None:\n",
    "            bottoms = np.zeros_like(vals)\n",
    "        top = bottoms + vals\n",
    "        print(sty)\n",
    "        sty.update(plot_kwargs)\n",
    "        print(sty)\n",
    "        ret = plot_func(ax, edges, top, bottoms=bottoms,\n",
    "                        label=label, **sty)\n",
    "        bottoms = top\n",
    "        arts[label] = ret\n",
    "    ax.legend(fontsize=10)\n",
    "    return arts\n",
    "\n",
    "\n",
    "# set up histogram function to fixed bins\n",
    "edges = np.linspace(-3, 3, 20, endpoint=True)\n",
    "hist_func = partial(np.histogram, bins=edges)\n",
    "\n",
    "# set up style cycles\n",
    "color_cycle = cycler(facecolor=plt.rcParams['axes.prop_cycle'][:4])\n",
    "label_cycle = cycler(label=['set {n}'.format(n=n) for n in range(4)])\n",
    "hatch_cycle = cycler(hatch=['/', '*', '+', '|'])\n",
    "\n",
    "# Fixing random state for reproducibility\n",
    "np.random.seed(19680801)\n",
    "\n",
    "stack_data = np.random.randn(4, 12250)\n",
    "dict_data = OrderedDict(zip((c['label'] for c in label_cycle), stack_data))"
   ]
  },
  {
   "cell_type": "code",
   "execution_count": 64,
   "metadata": {},
   "outputs": [
    {
     "name": "stdout",
     "output_type": "stream",
     "text": [
      "{}\n",
      "{'facecolor': '#1f77b4', 'hatch': '/'}\n",
      "{'facecolor': '#1f77b4', 'hatch': '/'}\n",
      "v\n",
      "{'facecolor': '#ff7f0e', 'hatch': '*'}\n",
      "{'facecolor': '#ff7f0e', 'hatch': '*'}\n",
      "v\n",
      "{'facecolor': '#2ca02c', 'hatch': '+'}\n",
      "{'facecolor': '#2ca02c', 'hatch': '+'}\n",
      "v\n",
      "{'facecolor': '#d62728', 'hatch': '|'}\n",
      "{'facecolor': '#d62728', 'hatch': '|'}\n",
      "v\n"
     ]
    },
    {
     "data": {
      "text/plain": [
       "Text(0.5, 0, 'x')"
      ]
     },
     "execution_count": 64,
     "metadata": {},
     "output_type": "execute_result"
    },
    {
     "data": {
      "image/png": "[encoded data removed]",
      "text/plain": [
       "<Figure size 648x324 with 2 Axes>"
      ]
     },
     "metadata": {
      "needs_background": "light"
     },
     "output_type": "display_data"
    }
   ],
   "source": [
    "fig, (ax1, ax2) = plt.subplots(1, 2, figsize=(9, 4.5), tight_layout=True)\n",
    "arts = stack_hist(ax1, Feature, color_cycle + label_cycle + hatch_cycle,\n",
    "                  hist_func=hist_func)\n",
    "''''arts = stack_hist(ax2, stack_data, color_cycle,\n",
    "                  hist_func=hist_func,\n",
    "                  plot_kwargs=dict(edgecolor='w', orientation='h'))'''\n",
    "ax1.set_ylabel('counts')\n",
    "ax1.set_xlabel('x')\n",
    "#ax2.set_xlabel('counts')\n",
    "#ax2.set_ylabel('x')"
   ]
  },
  {
   "cell_type": "code",
   "execution_count": null,
   "metadata": {},
   "outputs": [],
   "source": []
  }
 ],
 "metadata": {
  "kernelspec": {
   "display_name": "Python 3",
   "language": "python",
   "name": "python3"
  },
  "language_info": {
   "codemirror_mode": {
    "name": "ipython",
    "version": 3
   },
   "file_extension": ".py",
   "mimetype": "text/x-python",
   "name": "python",
   "nbconvert_exporter": "python",
   "pygments_lexer": "ipython3",
   "version": "3.7.4"
  }
 },
 "nbformat": 4,
 "nbformat_minor": 2
}
