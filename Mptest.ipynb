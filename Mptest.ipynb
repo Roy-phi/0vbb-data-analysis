{
 "cells": [
  {
   "cell_type": "code",
   "execution_count": 3,
   "id": "prompt-auckland",
   "metadata": {},
   "outputs": [],
   "source": [
    "from multiprocessing import Process\n",
    "import threading\n",
    "import time\n",
    "\n",
    "\n",
    "def foo(i):\n",
    "    print ('say hi', i)\n",
    "\n",
    "if __name__ == '__main__':\n",
    "    for i in range(10):\n",
    "        p = Process(target=foo, args=(i,))\n",
    "        p.start()"
   ]
  },
  {
   "cell_type": "code",
   "execution_count": 1,
   "id": "breathing-royalty",
   "metadata": {},
   "outputs": [
    {
     "name": "stdout",
     "output_type": "stream",
     "text": [
      "张炳韬 丁杉\n"
     ]
    }
   ],
   "source": [
    "s1 = '\\u5f20\\u70b3\\u97ec'\n",
    "\n",
    "s2 = '\\u4e01\\u6749'\n",
    "print(s1, s2)"
   ]
  },
  {
   "cell_type": "code",
   "execution_count": null,
   "id": "partial-passport",
   "metadata": {},
   "outputs": [],
   "source": []
  }
 ],
 "metadata": {
  "kernelspec": {
   "display_name": "Python 3",
   "language": "python",
   "name": "python3"
  },
  "language_info": {
   "codemirror_mode": {
    "name": "ipython",
    "version": 3
   },
   "file_extension": ".py",
   "mimetype": "text/x-python",
   "name": "python",
   "nbconvert_exporter": "python",
   "pygments_lexer": "ipython3",
   "version": "3.7.4"
  }
 },
 "nbformat": 4,
 "nbformat_minor": 5
}
