{
 "cells": [
  {
   "cell_type": "code",
   "execution_count": 16,
   "metadata": {},
   "outputs": [],
   "source": [
    "import numpy as np\n",
    "import math\n",
    "import scipy as sci\n",
    "from scipy import linalg\n",
    "import matplotlib.pyplot as plt\n",
    "np.set_printoptions(formatter={'float':\"{:.2f}\".format},suppress=True)"
   ]
  },
  {
   "cell_type": "code",
   "execution_count": 4,
   "metadata": {},
   "outputs": [],
   "source": [
    "def Hilbert(n):\n",
    "    H=np.ones((n,n),dtype=float)\n",
    "    for i in np.arange(n):\n",
    "        for j in np.arange(n):\n",
    "            H[i][j]=1/(i+j+1)\n",
    "    return H"
   ]
  },
  {
   "cell_type": "code",
   "execution_count": 64,
   "metadata": {},
   "outputs": [],
   "source": [
    "def SOR(A,b,u,w):\n",
    "    n=A.shape[0]\n",
    "    x=np.zeros((n,1),dtype=float)\n",
    "    k=0\n",
    "    delta=[]\n",
    "    norm=1\n",
    "    while (k<1000 and norm>1e-6):\n",
    "        x_=np.array(x)\n",
    "        for i in np.arange(n):\n",
    "            x[i]=x[i]+(w/A[i][i])*(b[i]-A[i,:].dot(x))\n",
    "        norm=linalg.norm((x_-x),ord=np.inf)\n",
    "        normu=linalg.norm((u-x),ord=np.inf)\n",
    "        delta.append(normu)\n",
    "        k=k+1\n",
    "    return x, delta,k\n",
    "\n",
    "def J(A,b,u):\n",
    "    n=A.shape[0]\n",
    "    xnew=np.zeros((n,1),dtype=float)\n",
    "    k=0\n",
    "    delta=[]\n",
    "    norm=1\n",
    "    while (k<6 and norm>1e-6):\n",
    "        x=np.array(xnew)\n",
    "        #print('x:',x.T)\n",
    "        for i in np.arange(n):\n",
    "            xnew[i]=x[i]+(1/A[i][i])*(b[i]-A[i,:].dot(x))\n",
    "        #print('xnew',xnew.T)\n",
    "        norm=linalg.norm((xnew-x),ord=np.inf)\n",
    "        normu=linalg.norm((u-x),ord=np.inf)\n",
    "        delta.append(normu)\n",
    "        k=k+1\n",
    "    return x, delta,k"
   ]
  },
  {
   "cell_type": "code",
   "execution_count": 68,
   "metadata": {},
   "outputs": [
    {
     "name": "stdout",
     "output_type": "stream",
     "text": [
      "n = 14\n",
      "SOR:   \n",
      "w=1    [[1.00 0.98 1.07 0.96 0.95 0.97 1.01 1.03 1.04 1.04 1.02 1.00 0.98 0.94]]\n",
      "w=1.25 [[1.00 0.97 1.12 0.92 0.95 0.97 1.01 1.03 1.04 1.04 1.02 1.00 0.98 0.94]]\n",
      "w=1.5  [[1.00 0.95 1.17 0.84 1.00 0.95 1.03 1.03 1.05 1.04 1.03 1.00 0.97 0.94]]\n",
      "\n",
      "n = 16\n",
      "SOR:   \n",
      "w=1    [[1.00 0.96 1.10 0.98 0.94 0.95 0.98 1.01 1.03 1.04 1.04 1.03 1.02 0.99\n",
      "  0.97 0.94]]\n",
      "w=1.25 [[1.00 0.94 1.16 0.93 0.94 0.95 0.99 1.02 1.03 1.04 1.04 1.03 1.02 0.99\n",
      "  0.97 0.94]]\n",
      "w=1.5  [[1.00 0.93 1.22 0.84 0.99 0.92 1.01 1.01 1.04 1.04 1.04 1.03 1.02 0.99\n",
      "  0.97 0.94]]\n",
      "\n",
      "n = 18\n",
      "SOR:   \n",
      "w=1    [[1.00 0.95 1.11 1.00 0.94 0.94 0.96 0.99 1.02 1.03 1.04 1.04 1.04 1.02\n",
      "  1.01 0.99 0.96 0.94]]\n",
      "w=1.25 [[1.01 0.93 1.17 0.95 0.94 0.94 0.97 0.99 1.02 1.04 1.04 1.04 1.04 1.02\n",
      "  1.01 0.99 0.96 0.94]]\n",
      "w=1.5  [[1.01 0.92 1.23 0.87 0.99 0.91 0.99 0.99 1.03 1.03 1.05 1.04 1.04 1.02\n",
      "  1.01 0.98 0.96 0.94]]\n",
      "\n",
      "n = 20\n",
      "SOR:   \n",
      "w=1    [[1.01 0.94 1.11 1.02 0.96 0.94 0.95 0.97 1.00 1.02 1.03 1.04 1.04 1.04\n",
      "  1.03 1.02 1.00 0.98 0.96 0.94]]\n",
      "w=1.25 [[1.01 0.93 1.16 0.98 0.95 0.94 0.95 0.98 1.00 1.02 1.04 1.04 1.04 1.04\n",
      "  1.03 1.02 1.00 0.98 0.96 0.94]]\n",
      "w=1.5  [[1.01 0.91 1.21 0.91 0.99 0.92 0.97 0.97 1.01 1.02 1.04 1.04 1.04 1.04\n",
      "  1.03 1.02 1.00 0.98 0.96 0.93]]\n",
      "\n",
      "n = 22\n",
      "SOR:   \n",
      "w=1    [[1.01 0.94 1.10 1.04 0.98 0.94 0.94 0.96 0.98 1.00 1.02 1.03 1.04 1.04\n",
      "  1.04 1.03 1.02 1.01 0.99 0.98 0.96 0.93]]\n",
      "w=1.25 [[1.01 0.93 1.13 1.01 0.97 0.94 0.95 0.96 0.98 1.00 1.02 1.03 1.04 1.04\n",
      "  1.04 1.03 1.02 1.01 0.99 0.97 0.96 0.93]]\n",
      "w=1.5  [[1.01 0.92 1.17 0.97 1.00 0.93 0.96 0.96 0.99 1.00 1.02 1.03 1.04 1.04\n",
      "  1.04 1.03 1.02 1.01 0.99 0.97 0.96 0.93]]\n",
      "\n",
      "n = 24\n",
      "SOR:   \n",
      "w=1    [[1.01 0.95 1.07 1.05 1.00 0.96 0.94 0.95 0.97 0.99 1.01 1.02 1.03 1.04\n",
      "  1.04 1.04 1.04 1.03 1.02 1.00 0.99 0.97 0.95 0.93]]\n",
      "w=1.25 [[1.01 0.94 1.09 1.04 0.99 0.95 0.95 0.95 0.97 0.99 1.01 1.02 1.03 1.04\n",
      "  1.04 1.04 1.04 1.03 1.02 1.00 0.99 0.97 0.95 0.93]]\n",
      "w=1.5  [[1.01 0.93 1.11 1.02 1.00 0.95 0.95 0.95 0.97 0.99 1.01 1.02 1.03 1.04\n",
      "  1.04 1.04 1.04 1.03 1.02 1.00 0.99 0.97 0.95 0.93]]\n",
      "\n",
      "n = 26\n",
      "SOR:   \n",
      "w=1    [[1.01 0.96 1.04 1.06 1.02 0.97 0.95 0.95 0.96 0.97 0.99 1.01 1.02 1.03\n",
      "  1.04 1.04 1.04 1.04 1.03 1.02 1.01 1.00 0.98 0.97 0.95 0.93]]\n",
      "w=1.25 [[1.01 0.95 1.04 1.07 1.01 0.97 0.95 0.95 0.96 0.97 0.99 1.01 1.02 1.03\n",
      "  1.04 1.04 1.04 1.04 1.03 1.02 1.01 1.00 0.98 0.97 0.95 0.93]]\n",
      "w=1.5  [[1.01 0.95 1.04 1.07 1.00 0.97 0.95 0.95 0.96 0.97 0.99 1.01 1.02 1.03\n",
      "  1.04 1.04 1.04 1.04 1.03 1.02 1.01 1.00 0.98 0.97 0.95 0.93]]\n",
      "\n",
      "n = 28\n",
      "SOR:   \n",
      "w=1    [[1.00 0.97 1.01 1.07 1.04 0.99 0.96 0.95 0.95 0.96 0.98 0.99 1.01 1.02\n",
      "  1.03 1.04 1.04 1.04 1.04 1.03 1.03 1.02 1.01 0.99 0.98 0.97 0.95 0.93]]\n",
      "w=1.25 [[1.00 0.97 0.99 1.09 1.03 0.99 0.96 0.95 0.95 0.96 0.98 0.99 1.01 1.02\n",
      "  1.03 1.04 1.04 1.04 1.04 1.03 1.03 1.02 1.01 0.99 0.98 0.97 0.95 0.93]]\n",
      "w=1.5  [[1.00 0.98 0.97 1.12 1.01 1.00 0.95 0.95 0.95 0.96 0.98 0.99 1.01 1.02\n",
      "  1.03 1.04 1.04 1.04 1.04 1.03 1.03 1.02 1.01 0.99 0.98 0.97 0.95 0.93]]\n",
      "\n"
     ]
    }
   ],
   "source": [
    "for n in np.arange(14,30,2):\n",
    "    Hil=Hilbert(n)\n",
    "    u=np.ones((n,1))\n",
    "    b=Hil.dot(u)\n",
    "    #Jx,Jdelta,Jk=J(Hil,b,u)\n",
    "    Sx1,Sdelta1,Sk1=SOR(Hil,b,u,1)\n",
    "    Sx2,Sdelta2,Sk2=SOR(Hil,b,u,1.25)\n",
    "    Sx3,Sdelta3,Sk3=SOR(Hil,b,u,1.5)\n",
    "    \n",
    "    print('n =',n)\n",
    "    #print('J:    ',Jx.T)\n",
    "    print('SOR:   ')\n",
    "    print('w=1   ',Sx1.T)\n",
    "    print('w=1.25',Sx2.T)\n",
    "    print('w=1.5 ',Sx3.T)\n",
    "    print()"
   ]
  },
  {
   "cell_type": "code",
   "execution_count": 56,
   "metadata": {},
   "outputs": [
    {
     "name": "stdout",
     "output_type": "stream",
     "text": [
      "(array([-4.30853103+0.j,  0.38041266+0.j,  0.93164319+0.j,  0.99656101+0.j,\n",
      "        0.99991502+0.j,  0.99999915+0.j]), array([[-0.13, -0.41, -0.22, -0.06, -0.01, 0.00],\n",
      "       [-0.29, -0.26, 0.43, 0.42, 0.17, -0.04],\n",
      "       [-0.38, 0.02, 0.42, -0.32, -0.55, 0.24],\n",
      "       [-0.45, 0.27, 0.11, -0.52, 0.31, -0.63],\n",
      "       [-0.50, 0.49, -0.29, -0.12, 0.57, 0.69],\n",
      "       [-0.54, 0.67, -0.71, 0.66, -0.50, -0.27]]))\n"
     ]
    }
   ],
   "source": [
    "A=Hilbert(6)\n",
    "for i in np.arange(6):\n",
    "    A[i,:]=-A[i,:]/A[i][i]\n",
    "    A[i,i]=0\n",
    "print(linalg.eig(A))    "
   ]
  },
  {
   "cell_type": "code",
   "execution_count": 53,
   "metadata": {},
   "outputs": [
    {
     "name": "stdout",
     "output_type": "stream",
     "text": [
      "x: [[0.00 0.00]]\n",
      "xnew [[2.00 1.50]]\n",
      "x: [[2.00 1.50]]\n",
      "xnew [[0.50 0.50]]\n",
      "x: [[0.50 0.50]]\n",
      "xnew [[1.50 1.25]]\n",
      "x: [[1.50 1.25]]\n",
      "xnew [[0.75 0.75]]\n",
      "x: [[0.75 0.75]]\n",
      "xnew [[1.25 1.12]]\n",
      "x: [[1.25 1.12]]\n",
      "xnew [[0.88 0.88]]\n",
      "x: [[0.88 0.88]]\n",
      "xnew [[1.12 1.06]]\n",
      "x: [[1.12 1.06]]\n",
      "xnew [[0.94 0.94]]\n",
      "x: [[0.94 0.94]]\n",
      "xnew [[1.06 1.03]]\n",
      "x: [[1.06 1.03]]\n",
      "xnew [[0.97 0.97]]\n",
      "x: [[0.97 0.97]]\n",
      "xnew [[1.03 1.02]]\n",
      "x: [[1.03 1.02]]\n",
      "xnew [[0.98 0.98]]\n",
      "x: [[0.98 0.98]]\n",
      "xnew [[1.02 1.01]]\n",
      "x: [[1.02 1.01]]\n",
      "xnew [[0.99 0.99]]\n",
      "x: [[0.99 0.99]]\n",
      "xnew [[1.01 1.00]]\n",
      "x: [[1.01 1.00]]\n",
      "xnew [[1.00 1.00]]\n",
      "x: [[1.00 1.00]]\n",
      "xnew [[1.00 1.00]]\n",
      "x: [[1.00 1.00]]\n",
      "xnew [[1.00 1.00]]\n",
      "x: [[1.00 1.00]]\n",
      "xnew [[1.00 1.00]]\n",
      "x: [[1.00 1.00]]\n",
      "xnew [[1.00 1.00]]\n",
      "x: [[1.00 1.00]]\n",
      "xnew [[1.00 1.00]]\n",
      "x: [[1.00 1.00]]\n",
      "xnew [[1.00 1.00]]\n",
      "x: [[1.00 1.00]]\n",
      "xnew [[1.00 1.00]]\n",
      "x: [[1.00 1.00]]\n",
      "xnew [[1.00 1.00]]\n",
      "x: [[1.00 1.00]]\n",
      "xnew [[1.00 1.00]]\n",
      "x: [[1.00 1.00]]\n",
      "xnew [[1.00 1.00]]\n",
      "x: [[1.00 1.00]]\n",
      "xnew [[1.00 1.00]]\n",
      "x: [[1.00 1.00]]\n",
      "xnew [[1.00 1.00]]\n",
      "x: [[1.00 1.00]]\n",
      "xnew [[1.00 1.00]]\n",
      "x: [[1.00 1.00]]\n",
      "xnew [[1.00 1.00]]\n",
      "x: [[1.00 1.00]]\n",
      "xnew [[1.00 1.00]]\n",
      "x: [[1.00 1.00]]\n",
      "xnew [[1.00 1.00]]\n",
      "x: [[1.00 1.00]]\n",
      "xnew [[1.00 1.00]]\n",
      "x: [[1.00 1.00]]\n",
      "xnew [[1.00 1.00]]\n",
      "x: [[1.00 1.00]]\n",
      "xnew [[1.00 1.00]]\n",
      "x: [[1.00 1.00]]\n",
      "xnew [[1.00 1.00]]\n",
      "x: [[1.00 1.00]]\n",
      "xnew [[1.00 1.00]]\n",
      "x: [[1.00 1.00]]\n",
      "xnew [[1.00 1.00]]\n",
      "x: [[1.00 1.00]]\n",
      "xnew [[1.00 1.00]]\n",
      "x: [[1.00 1.00]]\n",
      "xnew [[1.00 1.00]]\n",
      "x: [[1.00 1.00]]\n",
      "xnew [[1.00 1.00]]\n",
      "x: [[1.00 1.00]]\n",
      "xnew [[1.00 1.00]]\n",
      "x: [[1.00 1.00]]\n",
      "xnew [[1.00 1.00]]\n"
     ]
    }
   ],
   "source": [
    "A=np.array([[1,1],[2,4]])\n",
    "u=np.array([[1],[1]])\n",
    "b=A.dot(u)\n",
    "x,delta,k=J(A,b,u)"
   ]
  },
  {
   "cell_type": "code",
   "execution_count": 54,
   "metadata": {},
   "outputs": [
    {
     "name": "stdout",
     "output_type": "stream",
     "text": [
      "[1.0, 1.0, 0.5, 0.5, 0.25, 0.25, 0.125, 0.125, 0.0625, 0.0625, 0.03125, 0.03125, 0.015625, 0.015625, 0.0078125, 0.0078125, 0.00390625, 0.00390625, 0.001953125, 0.001953125, 0.0009765625, 0.0009765625, 0.00048828125, 0.00048828125, 0.000244140625, 0.000244140625, 0.0001220703125, 0.0001220703125, 6.103515625e-05, 6.103515625e-05, 3.0517578125e-05, 3.0517578125e-05, 1.52587890625e-05, 1.52587890625e-05, 7.62939453125e-06, 7.62939453125e-06, 3.814697265625e-06, 3.814697265625e-06, 1.9073486328125e-06, 1.9073486328125e-06, 9.5367431640625e-07, 9.5367431640625e-07, 4.76837158203125e-07]\n"
     ]
    }
   ],
   "source": [
    "print(delta)"
   ]
  },
  {
   "cell_type": "code",
   "execution_count": 5,
   "metadata": {},
   "outputs": [
    {
     "name": "stdout",
     "output_type": "stream",
     "text": [
      "Collecting jupyterthemes\n",
      "  Downloading https://files.pythonhosted.org/packages/8a/08/9dee6dfd7f2aad6c30282d55c8f495b4dc1e4747b4e2bdbeb80572ddf312/jupyterthemes-0.20.0-py2.py3-none-any.whl (7.0MB)\n"
     ]
    },
    {
     "name": "stderr",
     "output_type": "stream",
     "text": [
      "ERROR: Exception:\n",
      "Traceback (most recent call last):\n",
      "  File \"D:\\Anaconda\\lib\\site-packages\\pip\\_vendor\\urllib3\\response.py\", line 397, in _error_catcher\n",
      "    yield\n",
      "  File \"D:\\Anaconda\\lib\\site-packages\\pip\\_vendor\\urllib3\\response.py\", line 479, in read\n",
      "    data = self._fp.read(amt)\n",
      "  File \"D:\\Anaconda\\lib\\site-packages\\pip\\_vendor\\cachecontrol\\filewrapper.py\", line 62, in read\n",
      "    data = self.__fp.read(amt)\n",
      "  File \"D:\\Anaconda\\lib\\http\\client.py\", line 457, in read\n",
      "    n = self.readinto(b)\n",
      "  File \"D:\\Anaconda\\lib\\http\\client.py\", line 501, in readinto\n",
      "    n = self.fp.readinto(b)\n",
      "  File \"D:\\Anaconda\\lib\\socket.py\", line 589, in readinto\n",
      "    return self._sock.recv_into(b)\n",
      "  File \"D:\\Anaconda\\lib\\ssl.py\", line 1071, in recv_into\n",
      "    return self.read(nbytes, buffer)\n",
      "  File \"D:\\Anaconda\\lib\\ssl.py\", line 929, in read\n",
      "    return self._sslobj.read(len, buffer)\n",
      "socket.timeout: The read operation timed out\n",
      "\n",
      "During handling of the above exception, another exception occurred:\n",
      "\n",
      "Traceback (most recent call last):\n",
      "  File \"D:\\Anaconda\\lib\\site-packages\\pip\\_internal\\cli\\base_command.py\", line 188, in main\n",
      "    status = self.run(options, args)\n",
      "  File \"D:\\Anaconda\\lib\\site-packages\\pip\\_internal\\commands\\install.py\", line 345, in run\n",
      "    resolver.resolve(requirement_set)\n",
      "  File \"D:\\Anaconda\\lib\\site-packages\\pip\\_internal\\legacy_resolve.py\", line 196, in resolve\n",
      "    self._resolve_one(requirement_set, req)\n",
      "  File \"D:\\Anaconda\\lib\\site-packages\\pip\\_internal\\legacy_resolve.py\", line 359, in _resolve_one\n",
      "    abstract_dist = self._get_abstract_dist_for(req_to_install)\n",
      "  File \"D:\\Anaconda\\lib\\site-packages\\pip\\_internal\\legacy_resolve.py\", line 307, in _get_abstract_dist_for\n",
      "    self.require_hashes\n",
      "  File \"D:\\Anaconda\\lib\\site-packages\\pip\\_internal\\operations\\prepare.py\", line 199, in prepare_linked_requirement\n",
      "    progress_bar=self.progress_bar\n",
      "  File \"D:\\Anaconda\\lib\\site-packages\\pip\\_internal\\download.py\", line 1064, in unpack_url\n",
      "    progress_bar=progress_bar\n",
      "  File \"D:\\Anaconda\\lib\\site-packages\\pip\\_internal\\download.py\", line 924, in unpack_http_url\n",
      "    progress_bar)\n",
      "  File \"D:\\Anaconda\\lib\\site-packages\\pip\\_internal\\download.py\", line 1152, in _download_http_url\n",
      "    _download_url(resp, link, content_file, hashes, progress_bar)\n",
      "  File \"D:\\Anaconda\\lib\\site-packages\\pip\\_internal\\download.py\", line 861, in _download_url\n",
      "    hashes.check_against_chunks(downloaded_chunks)\n",
      "  File \"D:\\Anaconda\\lib\\site-packages\\pip\\_internal\\utils\\hashes.py\", line 75, in check_against_chunks\n",
      "    for chunk in chunks:\n",
      "  File \"D:\\Anaconda\\lib\\site-packages\\pip\\_internal\\download.py\", line 829, in written_chunks\n",
      "    for chunk in chunks:\n",
      "  File \"D:\\Anaconda\\lib\\site-packages\\pip\\_internal\\utils\\ui.py\", line 156, in iter\n",
      "    for x in it:\n",
      "  File \"D:\\Anaconda\\lib\\site-packages\\pip\\_internal\\download.py\", line 818, in resp_read\n",
      "    decode_content=False):\n",
      "  File \"D:\\Anaconda\\lib\\site-packages\\pip\\_vendor\\urllib3\\response.py\", line 531, in stream\n",
      "    data = self.read(amt=amt, decode_content=decode_content)\n",
      "  File \"D:\\Anaconda\\lib\\site-packages\\pip\\_vendor\\urllib3\\response.py\", line 496, in read\n",
      "    raise IncompleteRead(self._fp_bytes_read, self.length_remaining)\n",
      "  File \"D:\\Anaconda\\lib\\contextlib.py\", line 130, in __exit__\n",
      "    self.gen.throw(type, value, traceback)\n",
      "  File \"D:\\Anaconda\\lib\\site-packages\\pip\\_vendor\\urllib3\\response.py\", line 402, in _error_catcher\n",
      "    raise ReadTimeoutError(self._pool, None, 'Read timed out.')\n",
      "pip._vendor.urllib3.exceptions.ReadTimeoutError: HTTPSConnectionPool(host='files.pythonhosted.org', port=443): Read timed out.\n"
     ]
    },
    {
     "name": "stdout",
     "output_type": "stream",
     "text": [
      "^C\n"
     ]
    }
   ],
   "source": [
    "# Kill and exit the Notebook server\n",
    "\n",
    "# Make sure you are in the base conda environment conda activate base# install jupyterthemes\n",
    "\n",
    "!pip install jupyterthemes\n",
    "\n",
    "  \n",
    "\n",
    "# upgrade to latest version\n",
    "\n",
    "!pip install --upgrade jupyterthemes"
   ]
  },
  {
   "cell_type": "code",
   "execution_count": 6,
   "metadata": {},
   "outputs": [
    {
     "ename": "SyntaxError",
     "evalue": "invalid syntax (<ipython-input-6-4db31d56ba7a>, line 1)",
     "output_type": "error",
     "traceback": [
      "\u001b[1;36m  File \u001b[1;32m\"<ipython-input-6-4db31d56ba7a>\"\u001b[1;36m, line \u001b[1;32m1\u001b[0m\n\u001b[1;33m    jt -t onedork -fs 95 -altp -tfs 11 -nfs 115 -cellw 88% -T\u001b[0m\n\u001b[1;37m                ^\u001b[0m\n\u001b[1;31mSyntaxError\u001b[0m\u001b[1;31m:\u001b[0m invalid syntax\n"
     ]
    }
   ],
   "source": [
    "jt -t onedork -fs 95 -altp -tfs 11 -nfs 115 -cellw 88% -T"
   ]
  },
  {
   "cell_type": "code",
   "execution_count": null,
   "metadata": {},
   "outputs": [],
   "source": []
  }
 ],
 "metadata": {
  "kernelspec": {
   "display_name": "Python 3",
   "language": "python",
   "name": "python3"
  },
  "language_info": {
   "codemirror_mode": {
    "name": "ipython",
    "version": 3
   },
   "file_extension": ".py",
   "mimetype": "text/x-python",
   "name": "python",
   "nbconvert_exporter": "python",
   "pygments_lexer": "ipython3",
   "version": "3.7.4"
  }
 },
 "nbformat": 4,
 "nbformat_minor": 2
}
