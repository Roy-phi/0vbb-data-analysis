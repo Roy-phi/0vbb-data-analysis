{
 "cells": [
  {
   "cell_type": "code",
   "execution_count": 1,
   "metadata": {},
   "outputs": [
    {
     "ename": "ModuleNotFoundError",
     "evalue": "No module named 'ROOT'",
     "output_type": "error",
     "traceback": [
      "\u001b[1;31m---------------------------------------------------------------------------\u001b[0m",
      "\u001b[1;31mModuleNotFoundError\u001b[0m                       Traceback (most recent call last)",
      "\u001b[1;32m<ipython-input-1-847ac747b394>\u001b[0m in \u001b[0;36m<module>\u001b[1;34m\u001b[0m\n\u001b[0;32m      5\u001b[0m     \u001b[0mfin\u001b[0m \u001b[1;33m=\u001b[0m \u001b[0msys\u001b[0m\u001b[1;33m.\u001b[0m\u001b[0margv\u001b[0m\u001b[1;33m[\u001b[0m\u001b[1;36m1\u001b[0m\u001b[1;33m]\u001b[0m\u001b[1;33m\u001b[0m\u001b[1;33m\u001b[0m\u001b[0m\n\u001b[0;32m      6\u001b[0m \u001b[1;33m\u001b[0m\u001b[0m\n\u001b[1;32m----> 7\u001b[1;33m \u001b[1;32mfrom\u001b[0m \u001b[0mROOT\u001b[0m \u001b[1;32mimport\u001b[0m \u001b[0mTFile\u001b[0m\u001b[1;33m\u001b[0m\u001b[1;33m\u001b[0m\u001b[0m\n\u001b[0m\u001b[0;32m      8\u001b[0m \u001b[0mf\u001b[0m \u001b[1;33m=\u001b[0m \u001b[0mTFile\u001b[0m\u001b[1;33m(\u001b[0m\u001b[0mfin\u001b[0m\u001b[1;33m)\u001b[0m\u001b[1;33m\u001b[0m\u001b[1;33m\u001b[0m\u001b[0m\n\u001b[0;32m      9\u001b[0m \u001b[0mt\u001b[0m \u001b[1;33m=\u001b[0m \u001b[0mf\u001b[0m\u001b[1;33m.\u001b[0m\u001b[0mpcdz\u001b[0m\u001b[1;33m.\u001b[0m\u001b[0mGetTree\u001b[0m\u001b[1;33m(\u001b[0m\u001b[1;33m)\u001b[0m\u001b[1;33m\u001b[0m\u001b[1;33m\u001b[0m\u001b[0m\n",
      "\u001b[1;31mModuleNotFoundError\u001b[0m: No module named 'ROOT'"
     ]
    }
   ],
   "source": [
    "import sys\n",
    "if len(sys.argv) < 2:\n",
    "    fin = \"ppc.root\"\n",
    "else :\n",
    "    fin = sys.argv[1]\n",
    "\n",
    "from ROOT import TFile\n",
    "f = TFile(fin)\n",
    "t = f.pcdz.GetTree()\n",
    "r = t.AsMatrix(['c1'])\n",
    "z = t.AsMatrix(['c2'])\n",
    "v = t.AsMatrix(['v'])\n",
    "e = t.AsMatrix(['e'])\n",
    "\n",
    "n1 = f.pcdz.GetN1() # number of grid points along r\n",
    "n2 = f.pcdz.GetN2() # number of grid points along z\n",
    "v.shape=(n2,n1) # mind the order!\n",
    "e.shape=(n2,n1) # mind the order!\n",
    "\n",
    "# does not work:\n",
    "# https://root-forum.cern.ch/t/pydoublebuffer-seems-to-have-incorrect-size/28118/4\n",
    "# import numpy as np\n",
    "#r = np.array(tuple(f.pcdz.GetC1s()))\n",
    "#z = np.array(tuple(f.pcdz.GetC2s()))\n",
    "#v = np.array(tuple(f.pcdz.GetVs()))\n",
    "# also doesn't work:\n",
    "# https://stackoverflow.com/questions/23930671/how-to-create-n-dim-numpy-array-from-a-pointer\n",
    "#r = np.ctypeslib.as_array(f.pcdz.GetC1s(),shape=(n2*n1,))\n",
    "#z = np.ctypeslib.as_array(f.pcdz.GetC2s(),shape=(n2*n1,))\n",
    "#v = np.ctypeslib.as_array(f.pcdz.GetVs(),shape=(n2,n1))\n",
    "#print(v.shape)\n",
    "\n",
    "from matplotlib import rcParams\n",
    "rcParams['font.size'] = 12\n",
    "rcParams['font.family'] = 'FreeSerif'\n",
    "import matplotlib.pyplot as plt\n",
    "import matplotlib.colors as clr\n",
    "plt.figure(1) # potential\n",
    "# imshow is better than pcolormesh if x, y, z are one to one mapped:\n",
    "# https://stackoverflow.com/questions/24119920/how-to-plot-a-density-map-in-python\n",
    "plt.imshow(v,\n",
    "        extent=(r.min(), r.max(), z.min(), z.max()),\n",
    "        origin='lower', # (0,0) is at bottom left corner\n",
    "        cmap=plt.get_cmap('gnuplot'), # color map\n",
    "        )\n",
    "plt.ylabel('Axial position [cm]')\n",
    "plt.xlabel('Radial position [cm]')\n",
    "plt.colorbar().ax.set_ylabel('Potential [V]')\n",
    "\n",
    "plt.figure(2) # E field\n",
    "plt.imshow(e,\n",
    "        extent=(r.min(), r.max(), z.min(), z.max()),\n",
    "        origin='lower', # (0,0) is at bottom left corner\n",
    "        cmap=plt.get_cmap('gnuplot'), # color map\n",
    "        norm=clr.LogNorm(1) # log scale\n",
    "        )\n",
    "plt.ylabel('Axial position [cm]')\n",
    "plt.xlabel('Radial position [cm]')\n",
    "plt.colorbar().ax.set_ylabel('Electric field [V/cm]')\n",
    "\n",
    "# the vector field is different from a few nicely spaced field lines\n",
    "#e1 = t.AsMatrix(['e1'])\n",
    "#e2 = t.AsMatrix(['e2'])\n",
    "#plt.quiver(r,z,e1,e2)\n",
    "\n",
    "plt.show()\n"
   ]
  },
  {
   "cell_type": "code",
   "execution_count": null,
   "metadata": {},
   "outputs": [],
   "source": []
  }
 ],
 "metadata": {
  "kernelspec": {
   "display_name": "Python 3",
   "language": "python",
   "name": "python3"
  },
  "language_info": {
   "codemirror_mode": {
    "name": "ipython",
    "version": 3
   },
   "file_extension": ".py",
   "mimetype": "text/x-python",
   "name": "python",
   "nbconvert_exporter": "python",
   "pygments_lexer": "ipython3",
   "version": "3.7.4"
  }
 },
 "nbformat": 4,
 "nbformat_minor": 2
}
