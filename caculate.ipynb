{
 "cells": [
  {
   "cell_type": "code",
   "execution_count": 1,
   "metadata": {},
   "outputs": [],
   "source": [
    "import matplotlib.pyplot as plt\n",
    "import numpy as np\n",
    "from numpy import ma\n",
    "from matplotlib import ticker, cm\n",
    "import math"
   ]
  },
  {
   "cell_type": "code",
   "execution_count": 9,
   "metadata": {},
   "outputs": [
    {
     "data": {
      "text/plain": [
       "[<matplotlib.lines.Line2D at 0x14422302c08>]"
      ]
     },
     "execution_count": 9,
     "metadata": {},
     "output_type": "execute_result"
    },
    {
     "data": {
      "image/png": "[encoded data removed]",
      "text/plain": [
       "<Figure size 432x288 with 1 Axes>"
      ]
     },
     "metadata": {
      "needs_background": "light"
     },
     "output_type": "display_data"
    }
   ],
   "source": [
    "t=np.linspace(0.1,1.1,100)\n",
    "R=np.zeros((100,),dtype=float)\n",
    "y=np.zeros((100,),dtype=float)\n",
    "rate=np.zeros((100,),dtype=float)\n",
    "for i in range(100):\n",
    "    R[i]=0.5*(math.pi**0.5*(t[i]+0.5/t[i])*math.erf(t[i])+math.exp(-(t[i]**2)))\n",
    "    y[i]=0.5*math.pi**0.5/t[i]*math.erf(t[i])\n",
    "    rate[i]=R[i]/y[i]\n",
    "plt.plot(t,R)\n",
    "plt.plot(t,y)\n",
    "plt.plot(t,rate)"
   ]
  },
  {
   "cell_type": "code",
   "execution_count": 74,
   "metadata": {},
   "outputs": [],
   "source": [
    "h=np.array([300,600,800,828,1000])\n",
    "d=np.array([800,1172,1328,1340,1500])\n",
    "theta1=np.array([10,20,30,40,50,60,70,80])\n",
    "theta2=np.array([8,15.5,22.5,29,35,40.5,45.5,50])\n",
    "z=np.array([0,6,12,18])\n",
    "n=np.array([1880,940,530,305])\n",
    "alpha=np.linspace(1.15e-16,1.25e-16,100)\n",
    "beta=np.linspace(1840,1850,100)\n",
    "chisq=np.zeros((len(alpha),len(beta)))\n",
    "\n",
    "def fun(x,alpha,beta):\n",
    "    return alpha*(x**beta);\n",
    "def fun1(theta,r):\n",
    "    return (180/math.pi)*math.asin(math.sin(theta*math.pi/180)/r);\n",
    "def fun2(z,k,v0):\n",
    "    um=0.0001\n",
    "    r=0.52*um\n",
    "    deltarho=0.063\n",
    "    g=980\n",
    "    T=293\n",
    "    E=4/3*math.pi*(r**3)*deltarho*g*z*um\n",
    "    return v0*math.exp(-E/(k*T))\n",
    "\n",
    "for i in np.arange(len(alpha)):\n",
    "    for j in np.arange(len(beta)):\n",
    "        for l in np.arange(len(z)):\n",
    "            v=fun2(z[l],alpha[i],beta[j])\n",
    "            chisq[i,j]+=((n[l]-v)**2)/(v)\n",
    "            #chisq[i,j]+=n[l]*math.log(v)-v\n"
   ]
  },
  {
   "cell_type": "code",
   "execution_count": 75,
   "metadata": {},
   "outputs": [
    {
     "data": {
      "image/png": "[encoded data removed]",
      "text/plain": [
       "<Figure size 432x288 with 2 Axes>"
      ]
     },
     "metadata": {
      "needs_background": "light"
     },
     "output_type": "display_data"
    }
   ],
   "source": [
    "fig, ax = plt.subplots()\n",
    "cs = ax.contourf(alpha, beta, chisq,  cmap=cm.PuBu_r)\n",
    "#locator=ticker.LogLocator(),\n",
    "# Alternatively, you can manually set the levels\n",
    "# and the norm:\n",
    "# lev_exp = np.arange(np.floor(np.log10(z.min())-1),\n",
    "#                    np.ceil(np.log10(z.max())+1))\n",
    "# levs = np.power(10, lev_exp)\n",
    "# cs = ax.contourf(X, Y, z, levs, norm=colors.LogNorm())\n",
    "\n",
    "cbar = fig.colorbar(cs)\n",
    "\n",
    "plt.show()"
   ]
  },
  {
   "cell_type": "code",
   "execution_count": 76,
   "metadata": {},
   "outputs": [
    {
     "name": "stdout",
     "output_type": "stream",
     "text": [
      "(49, 54)\n",
      "4.568850799035676\n",
      "1845.4545454545455\n",
      "1.1994949494949495e-16 None\n"
     ]
    }
   ],
   "source": [
    "\n",
    "A=np.array([[5.1, 4.1, 3.1, 2.1],\n",
    "       [1.1, 0.1, 0.9, 1.9]])\n",
    "y=np.unravel_index(np.argmin(chisq),chisq.shape)#获得最小值的索引\n",
    "print(y)\n",
    "print(chisq[y])\n",
    "print(alpha[y[0]],print(beta[y[1]]))"
   ]
  },
  {
   "cell_type": "code",
   "execution_count": 5,
   "metadata": {},
   "outputs": [
    {
     "name": "stdout",
     "output_type": "stream",
     "text": [
      "3.080986767267646e-06\n"
     ]
    }
   ],
   "source": [
    "from scipy import stats\n",
    "chisquare=300\n",
    "freedom_degree=197\n",
    "\n",
    "p_value=1.0-stats.chi2.cdf(chisquare,freedom_degree)\n",
    "print(p_value)"
   ]
  },
  {
   "cell_type": "code",
   "execution_count": 4,
   "metadata": {},
   "outputs": [
    {
     "name": "stdout",
     "output_type": "stream",
     "text": [
      "0.07205052578060986\n"
     ]
    }
   ],
   "source": [
    "n=2\n",
    "N=10\n",
    "n=n\n",
    "a=stats.f.ppf(0.159,2*n,2*(N-n+1))\n",
    "plo=n*a/(N-n+1+n*(a))\n",
    "\n",
    "print(plo)"
   ]
  },
  {
   "cell_type": "code",
   "execution_count": 8,
   "metadata": {},
   "outputs": [
    {
     "name": "stdout",
     "output_type": "stream",
     "text": [
      "15.987179172105265\n"
     ]
    }
   ],
   "source": [
    "N=10\n",
    "a=stats.chi2.ppf(0.9,(N))\n",
    "print(a)"
   ]
  },
  {
   "cell_type": "code",
   "execution_count": 11,
   "metadata": {},
   "outputs": [
    {
     "name": "stdout",
     "output_type": "stream",
     "text": [
      "4.6345507336608875\n"
     ]
    }
   ],
   "source": [
    "a=0.5*stats.chi2.ppf(1-0.159,2*(N+1))\n",
    "print(a)"
   ]
  },
  {
   "cell_type": "code",
   "execution_count": 7,
   "metadata": {},
   "outputs": [
    {
     "data": {
      "text/plain": [
       "3.0"
      ]
     },
     "execution_count": 7,
     "metadata": {},
     "output_type": "execute_result"
    }
   ],
   "source": [
    "stats.poisson.ppf(1-0.00135,mu=0.3)"
   ]
  },
  {
   "cell_type": "code",
   "execution_count": 15,
   "metadata": {},
   "outputs": [],
   "source": [
    "from scipy import stats\n",
    "\n",
    "Nobs1=np.zeros((100000,))\n",
    "Nobs2=np.zeros((100000,))\n",
    "mean=np.zeros((100000,))\n",
    "for i in range(100000):\n",
    "    mean[i]=0.01*i+500\n",
    "    Nobs1[i]=stats.poisson.ppf(1-0.00135, mean[i])\n",
    "    Nobs2[i]=stats.poisson.ppf(0.5, 1.087*mean[i])\n",
    "\n"
   ]
  },
  {
   "cell_type": "code",
   "execution_count": 17,
   "metadata": {},
   "outputs": [
    {
     "name": "stdout",
     "output_type": "stream",
     "text": [
      "1223.25\n"
     ]
    },
    {
     "data": {
      "image/png": "[encoded data removed]",
      "text/plain": [
       "<Figure size 432x288 with 1 Axes>"
      ]
     },
     "metadata": {
      "needs_background": "light"
     },
     "output_type": "display_data"
    }
   ],
   "source": [
    "plt.plot(mean,Nobs1,mean,Nobs2)\n",
    "for i in range(100000):\n",
    "    if(Nobs1[i]<Nobs2[i]):\n",
    "        print(mean[i])\n",
    "        break"
   ]
  },
  {
   "cell_type": "code",
   "execution_count": null,
   "metadata": {},
   "outputs": [],
   "source": []
  }
 ],
 "metadata": {
  "kernelspec": {
   "display_name": "Python 3",
   "language": "python",
   "name": "python3"
  },
  "language_info": {
   "codemirror_mode": {
    "name": "ipython",
    "version": 3
   },
   "file_extension": ".py",
   "mimetype": "text/x-python",
   "name": "python",
   "nbconvert_exporter": "python",
   "pygments_lexer": "ipython3",
   "version": "3.7.4"
  }
 },
 "nbformat": 4,
 "nbformat_minor": 2
}
