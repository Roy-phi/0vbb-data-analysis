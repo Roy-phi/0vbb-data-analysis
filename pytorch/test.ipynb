{
 "cells": [
  {
   "cell_type": "code",
   "execution_count": 1,
   "id": "unauthorized-joshua",
   "metadata": {},
   "outputs": [
    {
     "name": "stderr",
     "output_type": "stream",
     "text": [
      "D:\\Anaconda\\lib\\site-packages\\IPython\\html.py:14: ShimWarning: The `IPython.html` package has been deprecated since IPython 4.0. You should import from `notebook` instead. `IPython.html.widgets` has moved to `ipywidgets`.\n",
      "  \"`IPython.html.widgets` has moved to `ipywidgets`.\", ShimWarning)\n"
     ]
    }
   ],
   "source": [
    "!conda activate pytorch_env\n",
    "import torch\n",
    "from torch.autograd import Variable\n",
    "import torch.nn as nn\n",
    "import torch.nn.functional as F"
   ]
  },
  {
   "cell_type": "code",
   "execution_count": 35,
   "id": "solid-difference",
   "metadata": {},
   "outputs": [
    {
     "name": "stdout",
     "output_type": "stream",
     "text": [
      "Net(\n",
      "  (conv1): Conv2d(1, 6, kernel_size=(5, 5), stride=(1, 1))\n",
      "  (conv2): Conv2d(6, 16, kernel_size=(5, 5), stride=(1, 1))\n",
      "  (F1): Linear(in_features=400, out_features=120, bias=True)\n",
      "  (F2): Linear(in_features=120, out_features=84, bias=True)\n",
      "  (F3): Linear(in_features=84, out_features=10, bias=True)\n",
      ")\n"
     ]
    }
   ],
   "source": [
    "class Net(nn.Module):\n",
    "    def __init__(self):\n",
    "        super(Net,self).__init__()\n",
    "        self.conv1=nn.Conv2d(1,6,5)\n",
    "        self.conv2=nn.Conv2d(6,16,5)\n",
    "        \n",
    "        self.F1=nn.Linear(16*5*5,120)\n",
    "        self.F2=nn.Linear(120,84)\n",
    "        self.F3=nn.Linear(84,10)\n",
    "        \n",
    "    def foward(self,x):\n",
    "        x=F.max_pool2d(F.relu(self.conv1(x)),(2,2))\n",
    "        x=F.max_pool2d(F.relu(self.conv2(x)),2)\n",
    "        x=x.view(-1,self.num_flat_features(x))\n",
    "        x=F.relu(self.F1(x))\n",
    "        x=F.relu(self.F2(x))\n",
    "        x=self.F3(x)\n",
    "        return x\n",
    "        \n",
    "    def num_flat_features(x):\n",
    "        size=x.size()[1:]\n",
    "        num_features=1\n",
    "        for i in size:\n",
    "            num_features*=i\n",
    "        return num_features\n",
    "a=Net()\n",
    "print(a)\n",
    "\n",
    "        "
   ]
  },
  {
   "cell_type": "code",
   "execution_count": 27,
   "id": "played-property",
   "metadata": {},
   "outputs": [],
   "source": [
    "t=Variable(torch.Tensor([1,2,3]),requires_grad=True)\n",
    "w=Variable(torch.Tensor([0,1,1]),requires_grad=True)\n",
    "b=Variable(torch.Tensor([4,5,6]),requires_grad=True)\n",
    "y=t*w*w+b"
   ]
  },
  {
   "cell_type": "code",
   "execution_count": 28,
   "id": "ordered-feelings",
   "metadata": {},
   "outputs": [],
   "source": [
    "y.backward(torch.Tensor([1,1,1]))\n"
   ]
  },
  {
   "cell_type": "code",
   "execution_count": 31,
   "id": "caring-methodology",
   "metadata": {},
   "outputs": [
    {
     "name": "stdout",
     "output_type": "stream",
     "text": [
      "tensor([1., 1., 1.])\n"
     ]
    }
   ],
   "source": []
  },
  {
   "cell_type": "code",
   "execution_count": null,
   "id": "chief-search",
   "metadata": {},
   "outputs": [],
   "source": []
  }
 ],
 "metadata": {
  "kernelspec": {
   "display_name": "Python 3",
   "language": "python",
   "name": "python3"
  },
  "language_info": {
   "codemirror_mode": {
    "name": "ipython",
    "version": 3
   },
   "file_extension": ".py",
   "mimetype": "text/x-python",
   "name": "python",
   "nbconvert_exporter": "python",
   "pygments_lexer": "ipython3",
   "version": "3.7.4"
  }
 },
 "nbformat": 4,
 "nbformat_minor": 5
}
